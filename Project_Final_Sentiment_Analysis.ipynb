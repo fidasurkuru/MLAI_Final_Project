{
 "cells": [
  {
   "cell_type": "code",
   "execution_count": 43,
   "metadata": {
    "executionInfo": {
     "elapsed": 7,
     "status": "ok",
     "timestamp": 1686215081626,
     "user": {
      "displayName": "Shabna Binth Nazar",
      "userId": "17143942376566095443"
     },
     "user_tz": -330
    },
    "id": "hiksqFTDBhos"
   },
   "outputs": [],
   "source": [
    "import pandas as pd\n",
    "import re\n",
    "import string\n",
    "import collections\n",
    "import matplotlib.pyplot as plt\n",
    "\n",
    "import nltk\n",
    "from nltk.corpus import stopwords\n",
    "from nltk.tokenize import word_tokenize\n",
    "from nltk.stem import WordNetLemmatizer, SnowballStemmer\n",
    "\n",
    "import tensorflow as tf\n",
    "from tensorflow.keras.layers import Embedding, Dense, GlobalAveragePooling1D\n",
    "from tensorflow.keras.preprocessing.text import Tokenizer\n",
    "from tensorflow.keras.preprocessing.sequence import pad_sequences"
   ]
  },
  {
   "cell_type": "code",
   "execution_count": null,
   "metadata": {
    "colab": {
     "base_uri": "https://localhost:8080/"
    },
    "id": "jFcFYbFicRzc",
    "outputId": "e78be4bd-eb0e-4fd6-8454-11c78451edb6"
   },
   "outputs": [
    {
     "name": "stdout",
     "output_type": "stream",
     "text": [
      "Mounted at /content/drive\n"
     ]
    }
   ],
   "source": [
    "from google.colab import drive\n",
    "drive.mount('/content/drive',force_remount=True)"
   ]
  },
  {
   "cell_type": "code",
   "execution_count": null,
   "metadata": {
    "id": "frU9dylEB43X"
   },
   "outputs": [],
   "source": [
    "df_train = pd.read_csv('/content/drive/MyDrive/sentiment_analysis/train_amazon_1_lakh.csv')\n",
    "df_test = pd.read_csv('/content/drive/MyDrive/sentiment_analysis/test_amazon_10_thous.csv')"
   ]
  },
  {
   "cell_type": "code",
   "execution_count": 44,
   "metadata": {
    "executionInfo": {
     "elapsed": 1129,
     "status": "ok",
     "timestamp": 1686215114268,
     "user": {
      "displayName": "Shabna Binth Nazar",
      "userId": "17143942376566095443"
     },
     "user_tz": -330
    },
    "id": "Kb9moPdwP_tU"
   },
   "outputs": [],
   "source": [
    "df_train = pd.read_csv('train_amazon_1_lakh.csv')\n",
    "df_test = pd.read_csv('test_amazon_10_thous.csv')"
   ]
  },
  {
   "cell_type": "code",
   "execution_count": null,
   "metadata": {
    "colab": {
     "base_uri": "https://localhost:8080/"
    },
    "id": "oq52kNMKdHXO",
    "outputId": "8d2f0662-c01b-437a-8ff7-26302a66b847"
   },
   "outputs": [
    {
     "name": "stdout",
     "output_type": "stream",
     "text": [
      "Drive already mounted at /content/drive; to attempt to forcibly remount, call drive.mount(\"/content/drive\", force_remount=True).\n"
     ]
    }
   ],
   "source": [
    "from google.colab import drive\n",
    "drive.mount('/content/drive')"
   ]
  },
  {
   "cell_type": "code",
   "execution_count": 45,
   "metadata": {
    "colab": {
     "base_uri": "https://localhost:8080/",
     "height": 641
    },
    "executionInfo": {
     "elapsed": 503,
     "status": "ok",
     "timestamp": 1686215118833,
     "user": {
      "displayName": "Shabna Binth Nazar",
      "userId": "17143942376566095443"
     },
     "user_tz": -330
    },
    "id": "d3uuEPx0KAUa",
    "outputId": "e1945c5b-defb-4019-f334-0e890640619a"
   },
   "outputs": [
    {
     "data": {
      "text/html": [
       "\n",
       "  <div id=\"df-4bd0df88-0167-4073-bb07-f5e2055e3d57\">\n",
       "    <div class=\"colab-df-container\">\n",
       "      <div>\n",
       "<style scoped>\n",
       "    .dataframe tbody tr th:only-of-type {\n",
       "        vertical-align: middle;\n",
       "    }\n",
       "\n",
       "    .dataframe tbody tr th {\n",
       "        vertical-align: top;\n",
       "    }\n",
       "\n",
       "    .dataframe thead th {\n",
       "        text-align: right;\n",
       "    }\n",
       "</style>\n",
       "<table border=\"1\" class=\"dataframe\">\n",
       "  <thead>\n",
       "    <tr style=\"text-align: right;\">\n",
       "      <th></th>\n",
       "      <th>2</th>\n",
       "      <th>Stuning even for the non-gamer</th>\n",
       "      <th>This sound track was beautiful! It paints the senery in your mind so well I would recomend it even to people who hate vid. game music! I have played the game Chrono Cross but out of all of the games I have ever played it has the best music! It backs away from crude keyboarding and takes a fresher step with grate guitars and soulful orchestras. It would impress anyone who cares to listen! ^_^</th>\n",
       "    </tr>\n",
       "  </thead>\n",
       "  <tbody>\n",
       "    <tr>\n",
       "      <th>0</th>\n",
       "      <td>2</td>\n",
       "      <td>The best soundtrack ever to anything.</td>\n",
       "      <td>I'm reading a lot of reviews saying that this ...</td>\n",
       "    </tr>\n",
       "    <tr>\n",
       "      <th>1</th>\n",
       "      <td>2</td>\n",
       "      <td>Amazing!</td>\n",
       "      <td>This soundtrack is my favorite music of all ti...</td>\n",
       "    </tr>\n",
       "    <tr>\n",
       "      <th>2</th>\n",
       "      <td>2</td>\n",
       "      <td>Excellent Soundtrack</td>\n",
       "      <td>I truly like this soundtrack and I enjoy video...</td>\n",
       "    </tr>\n",
       "    <tr>\n",
       "      <th>3</th>\n",
       "      <td>2</td>\n",
       "      <td>Remember, Pull Your Jaw Off The Floor After He...</td>\n",
       "      <td>If you've played the game, you know how divine...</td>\n",
       "    </tr>\n",
       "    <tr>\n",
       "      <th>4</th>\n",
       "      <td>2</td>\n",
       "      <td>an absolute masterpiece</td>\n",
       "      <td>I am quite sure any of you actually taking the...</td>\n",
       "    </tr>\n",
       "    <tr>\n",
       "      <th>...</th>\n",
       "      <td>...</td>\n",
       "      <td>...</td>\n",
       "      <td>...</td>\n",
       "    </tr>\n",
       "    <tr>\n",
       "      <th>100014</th>\n",
       "      <td>1</td>\n",
       "      <td>dont buy this.</td>\n",
       "      <td>i wish i could give AFI 0 stars. all they make...</td>\n",
       "    </tr>\n",
       "    <tr>\n",
       "      <th>100015</th>\n",
       "      <td>1</td>\n",
       "      <td>Kiddie-Core to the max</td>\n",
       "      <td>(...) AFI comes off like a terrible C-grade mi...</td>\n",
       "    </tr>\n",
       "    <tr>\n",
       "      <th>100016</th>\n",
       "      <td>2</td>\n",
       "      <td>*bawls bc she can't find her AoD CD*</td>\n",
       "      <td>Wonderful, wonderful. *beams* Beautiful album,...</td>\n",
       "    </tr>\n",
       "    <tr>\n",
       "      <th>100017</th>\n",
       "      <td>2</td>\n",
       "      <td>AWESOME!</td>\n",
       "      <td>This CD is AWESOME! Some people say this is te...</td>\n",
       "    </tr>\n",
       "    <tr>\n",
       "      <th>100018</th>\n",
       "      <td>2</td>\n",
       "      <td>Even better than Black Sails</td>\n",
       "      <td>BSITS marked a transitional phase for AFI, and...</td>\n",
       "    </tr>\n",
       "  </tbody>\n",
       "</table>\n",
       "<p>100019 rows × 3 columns</p>\n",
       "</div>\n",
       "      <button class=\"colab-df-convert\" onclick=\"convertToInteractive('df-4bd0df88-0167-4073-bb07-f5e2055e3d57')\"\n",
       "              title=\"Convert this dataframe to an interactive table.\"\n",
       "              style=\"display:none;\">\n",
       "        \n",
       "  <svg xmlns=\"http://www.w3.org/2000/svg\" height=\"24px\"viewBox=\"0 0 24 24\"\n",
       "       width=\"24px\">\n",
       "    <path d=\"M0 0h24v24H0V0z\" fill=\"none\"/>\n",
       "    <path d=\"M18.56 5.44l.94 2.06.94-2.06 2.06-.94-2.06-.94-.94-2.06-.94 2.06-2.06.94zm-11 1L8.5 8.5l.94-2.06 2.06-.94-2.06-.94L8.5 2.5l-.94 2.06-2.06.94zm10 10l.94 2.06.94-2.06 2.06-.94-2.06-.94-.94-2.06-.94 2.06-2.06.94z\"/><path d=\"M17.41 7.96l-1.37-1.37c-.4-.4-.92-.59-1.43-.59-.52 0-1.04.2-1.43.59L10.3 9.45l-7.72 7.72c-.78.78-.78 2.05 0 2.83L4 21.41c.39.39.9.59 1.41.59.51 0 1.02-.2 1.41-.59l7.78-7.78 2.81-2.81c.8-.78.8-2.07 0-2.86zM5.41 20L4 18.59l7.72-7.72 1.47 1.35L5.41 20z\"/>\n",
       "  </svg>\n",
       "      </button>\n",
       "      \n",
       "  <style>\n",
       "    .colab-df-container {\n",
       "      display:flex;\n",
       "      flex-wrap:wrap;\n",
       "      gap: 12px;\n",
       "    }\n",
       "\n",
       "    .colab-df-convert {\n",
       "      background-color: #E8F0FE;\n",
       "      border: none;\n",
       "      border-radius: 50%;\n",
       "      cursor: pointer;\n",
       "      display: none;\n",
       "      fill: #1967D2;\n",
       "      height: 32px;\n",
       "      padding: 0 0 0 0;\n",
       "      width: 32px;\n",
       "    }\n",
       "\n",
       "    .colab-df-convert:hover {\n",
       "      background-color: #E2EBFA;\n",
       "      box-shadow: 0px 1px 2px rgba(60, 64, 67, 0.3), 0px 1px 3px 1px rgba(60, 64, 67, 0.15);\n",
       "      fill: #174EA6;\n",
       "    }\n",
       "\n",
       "    [theme=dark] .colab-df-convert {\n",
       "      background-color: #3B4455;\n",
       "      fill: #D2E3FC;\n",
       "    }\n",
       "\n",
       "    [theme=dark] .colab-df-convert:hover {\n",
       "      background-color: #434B5C;\n",
       "      box-shadow: 0px 1px 3px 1px rgba(0, 0, 0, 0.15);\n",
       "      filter: drop-shadow(0px 1px 2px rgba(0, 0, 0, 0.3));\n",
       "      fill: #FFFFFF;\n",
       "    }\n",
       "  </style>\n",
       "\n",
       "      <script>\n",
       "        const buttonEl =\n",
       "          document.querySelector('#df-4bd0df88-0167-4073-bb07-f5e2055e3d57 button.colab-df-convert');\n",
       "        buttonEl.style.display =\n",
       "          google.colab.kernel.accessAllowed ? 'block' : 'none';\n",
       "\n",
       "        async function convertToInteractive(key) {\n",
       "          const element = document.querySelector('#df-4bd0df88-0167-4073-bb07-f5e2055e3d57');\n",
       "          const dataTable =\n",
       "            await google.colab.kernel.invokeFunction('convertToInteractive',\n",
       "                                                     [key], {});\n",
       "          if (!dataTable) return;\n",
       "\n",
       "          const docLinkHtml = 'Like what you see? Visit the ' +\n",
       "            '<a target=\"_blank\" href=https://colab.research.google.com/notebooks/data_table.ipynb>data table notebook</a>'\n",
       "            + ' to learn more about interactive tables.';\n",
       "          element.innerHTML = '';\n",
       "          dataTable['output_type'] = 'display_data';\n",
       "          await google.colab.output.renderOutput(dataTable, element);\n",
       "          const docLink = document.createElement('div');\n",
       "          docLink.innerHTML = docLinkHtml;\n",
       "          element.appendChild(docLink);\n",
       "        }\n",
       "      </script>\n",
       "    </div>\n",
       "  </div>\n",
       "  "
      ],
      "text/plain": [
       "        2                     Stuning even for the non-gamer  \\\n",
       "0       2              The best soundtrack ever to anything.   \n",
       "1       2                                           Amazing!   \n",
       "2       2                               Excellent Soundtrack   \n",
       "3       2  Remember, Pull Your Jaw Off The Floor After He...   \n",
       "4       2                            an absolute masterpiece   \n",
       "...    ..                                                ...   \n",
       "100014  1                                     dont buy this.   \n",
       "100015  1                             Kiddie-Core to the max   \n",
       "100016  2               *bawls bc she can't find her AoD CD*   \n",
       "100017  2                                           AWESOME!   \n",
       "100018  2                       Even better than Black Sails   \n",
       "\n",
       "       This sound track was beautiful! It paints the senery in your mind so well I would recomend it even to people who hate vid. game music! I have played the game Chrono Cross but out of all of the games I have ever played it has the best music! It backs away from crude keyboarding and takes a fresher step with grate guitars and soulful orchestras. It would impress anyone who cares to listen! ^_^  \n",
       "0       I'm reading a lot of reviews saying that this ...                                                                                                                                                                                                                                                                                                                                                          \n",
       "1       This soundtrack is my favorite music of all ti...                                                                                                                                                                                                                                                                                                                                                          \n",
       "2       I truly like this soundtrack and I enjoy video...                                                                                                                                                                                                                                                                                                                                                          \n",
       "3       If you've played the game, you know how divine...                                                                                                                                                                                                                                                                                                                                                          \n",
       "4       I am quite sure any of you actually taking the...                                                                                                                                                                                                                                                                                                                                                          \n",
       "...                                                   ...                                                                                                                                                                                                                                                                                                                                                          \n",
       "100014  i wish i could give AFI 0 stars. all they make...                                                                                                                                                                                                                                                                                                                                                          \n",
       "100015  (...) AFI comes off like a terrible C-grade mi...                                                                                                                                                                                                                                                                                                                                                          \n",
       "100016  Wonderful, wonderful. *beams* Beautiful album,...                                                                                                                                                                                                                                                                                                                                                          \n",
       "100017  This CD is AWESOME! Some people say this is te...                                                                                                                                                                                                                                                                                                                                                          \n",
       "100018  BSITS marked a transitional phase for AFI, and...                                                                                                                                                                                                                                                                                                                                                          \n",
       "\n",
       "[100019 rows x 3 columns]"
      ]
     },
     "execution_count": 45,
     "metadata": {},
     "output_type": "execute_result"
    }
   ],
   "source": [
    "df_train"
   ]
  },
  {
   "cell_type": "code",
   "execution_count": 46,
   "metadata": {
    "colab": {
     "base_uri": "https://localhost:8080/",
     "height": 780
    },
    "executionInfo": {
     "elapsed": 590,
     "status": "ok",
     "timestamp": 1686215121540,
     "user": {
      "displayName": "Shabna Binth Nazar",
      "userId": "17143942376566095443"
     },
     "user_tz": -330
    },
    "id": "cmdHEAbvKCaN",
    "outputId": "ba08549a-ec3e-4ba1-ce03-b0543542c534"
   },
   "outputs": [
    {
     "data": {
      "text/html": [
       "\n",
       "  <div id=\"df-6d397bcb-fb93-4ef4-847e-a2867225f3fa\">\n",
       "    <div class=\"colab-df-container\">\n",
       "      <div>\n",
       "<style scoped>\n",
       "    .dataframe tbody tr th:only-of-type {\n",
       "        vertical-align: middle;\n",
       "    }\n",
       "\n",
       "    .dataframe tbody tr th {\n",
       "        vertical-align: top;\n",
       "    }\n",
       "\n",
       "    .dataframe thead th {\n",
       "        text-align: right;\n",
       "    }\n",
       "</style>\n",
       "<table border=\"1\" class=\"dataframe\">\n",
       "  <thead>\n",
       "    <tr style=\"text-align: right;\">\n",
       "      <th></th>\n",
       "      <th>2</th>\n",
       "      <th>Great CD</th>\n",
       "      <th>My lovely Pat has one of the GREAT voices of her generation. I have listened to this CD for YEARS and I still LOVE IT. When I'm in a good mood it makes me feel better. A bad mood just evaporates like sugar in the rain. This CD just oozes LIFE. Vocals are jusat STUUNNING and lyrics just kill. One of life's hidden gems. This is a desert isle CD in my book. Why she never made it big is just beyond me. Everytime I play this, no matter black, white, young, old, male, female EVERYBODY says one thing \"Who was that singing ?\"</th>\n",
       "    </tr>\n",
       "  </thead>\n",
       "  <tbody>\n",
       "    <tr>\n",
       "      <th>0</th>\n",
       "      <td>2</td>\n",
       "      <td>One of the best game music soundtracks - for a...</td>\n",
       "      <td>Despite the fact that I have only played a sma...</td>\n",
       "    </tr>\n",
       "    <tr>\n",
       "      <th>1</th>\n",
       "      <td>1</td>\n",
       "      <td>Batteries died within a year ...</td>\n",
       "      <td>I bought this charger in Jul 2003 and it worke...</td>\n",
       "    </tr>\n",
       "    <tr>\n",
       "      <th>2</th>\n",
       "      <td>2</td>\n",
       "      <td>works fine, but Maha Energy is better</td>\n",
       "      <td>Check out Maha Energy's website. Their Powerex...</td>\n",
       "    </tr>\n",
       "    <tr>\n",
       "      <th>3</th>\n",
       "      <td>2</td>\n",
       "      <td>Great for the non-audiophile</td>\n",
       "      <td>Reviewed quite a bit of the combo players and ...</td>\n",
       "    </tr>\n",
       "    <tr>\n",
       "      <th>4</th>\n",
       "      <td>1</td>\n",
       "      <td>DVD Player crapped out after one year</td>\n",
       "      <td>I also began having the incorrect disc problem...</td>\n",
       "    </tr>\n",
       "    <tr>\n",
       "      <th>...</th>\n",
       "      <td>...</td>\n",
       "      <td>...</td>\n",
       "      <td>...</td>\n",
       "    </tr>\n",
       "    <tr>\n",
       "      <th>9996</th>\n",
       "      <td>2</td>\n",
       "      <td>Love it Love it Love it</td>\n",
       "      <td>My daughter loves this, she is six months old ...</td>\n",
       "    </tr>\n",
       "    <tr>\n",
       "      <th>9997</th>\n",
       "      <td>1</td>\n",
       "      <td>Faulty leg causing distress for my baby</td>\n",
       "      <td>I purchased this item for my 6 month old baby ...</td>\n",
       "    </tr>\n",
       "    <tr>\n",
       "      <th>9998</th>\n",
       "      <td>2</td>\n",
       "      <td>Fantastic Entertainer</td>\n",
       "      <td>My daughter started enjoying this around 4-1/2...</td>\n",
       "    </tr>\n",
       "    <tr>\n",
       "      <th>9999</th>\n",
       "      <td>1</td>\n",
       "      <td>You can do better</td>\n",
       "      <td>I am a first time mom and loved the baby einst...</td>\n",
       "    </tr>\n",
       "    <tr>\n",
       "      <th>10000</th>\n",
       "      <td>2</td>\n",
       "      <td>Best purchase ever!!!!</td>\n",
       "      <td>We bought this exersaucer when our little guy ...</td>\n",
       "    </tr>\n",
       "  </tbody>\n",
       "</table>\n",
       "<p>10001 rows × 3 columns</p>\n",
       "</div>\n",
       "      <button class=\"colab-df-convert\" onclick=\"convertToInteractive('df-6d397bcb-fb93-4ef4-847e-a2867225f3fa')\"\n",
       "              title=\"Convert this dataframe to an interactive table.\"\n",
       "              style=\"display:none;\">\n",
       "        \n",
       "  <svg xmlns=\"http://www.w3.org/2000/svg\" height=\"24px\"viewBox=\"0 0 24 24\"\n",
       "       width=\"24px\">\n",
       "    <path d=\"M0 0h24v24H0V0z\" fill=\"none\"/>\n",
       "    <path d=\"M18.56 5.44l.94 2.06.94-2.06 2.06-.94-2.06-.94-.94-2.06-.94 2.06-2.06.94zm-11 1L8.5 8.5l.94-2.06 2.06-.94-2.06-.94L8.5 2.5l-.94 2.06-2.06.94zm10 10l.94 2.06.94-2.06 2.06-.94-2.06-.94-.94-2.06-.94 2.06-2.06.94z\"/><path d=\"M17.41 7.96l-1.37-1.37c-.4-.4-.92-.59-1.43-.59-.52 0-1.04.2-1.43.59L10.3 9.45l-7.72 7.72c-.78.78-.78 2.05 0 2.83L4 21.41c.39.39.9.59 1.41.59.51 0 1.02-.2 1.41-.59l7.78-7.78 2.81-2.81c.8-.78.8-2.07 0-2.86zM5.41 20L4 18.59l7.72-7.72 1.47 1.35L5.41 20z\"/>\n",
       "  </svg>\n",
       "      </button>\n",
       "      \n",
       "  <style>\n",
       "    .colab-df-container {\n",
       "      display:flex;\n",
       "      flex-wrap:wrap;\n",
       "      gap: 12px;\n",
       "    }\n",
       "\n",
       "    .colab-df-convert {\n",
       "      background-color: #E8F0FE;\n",
       "      border: none;\n",
       "      border-radius: 50%;\n",
       "      cursor: pointer;\n",
       "      display: none;\n",
       "      fill: #1967D2;\n",
       "      height: 32px;\n",
       "      padding: 0 0 0 0;\n",
       "      width: 32px;\n",
       "    }\n",
       "\n",
       "    .colab-df-convert:hover {\n",
       "      background-color: #E2EBFA;\n",
       "      box-shadow: 0px 1px 2px rgba(60, 64, 67, 0.3), 0px 1px 3px 1px rgba(60, 64, 67, 0.15);\n",
       "      fill: #174EA6;\n",
       "    }\n",
       "\n",
       "    [theme=dark] .colab-df-convert {\n",
       "      background-color: #3B4455;\n",
       "      fill: #D2E3FC;\n",
       "    }\n",
       "\n",
       "    [theme=dark] .colab-df-convert:hover {\n",
       "      background-color: #434B5C;\n",
       "      box-shadow: 0px 1px 3px 1px rgba(0, 0, 0, 0.15);\n",
       "      filter: drop-shadow(0px 1px 2px rgba(0, 0, 0, 0.3));\n",
       "      fill: #FFFFFF;\n",
       "    }\n",
       "  </style>\n",
       "\n",
       "      <script>\n",
       "        const buttonEl =\n",
       "          document.querySelector('#df-6d397bcb-fb93-4ef4-847e-a2867225f3fa button.colab-df-convert');\n",
       "        buttonEl.style.display =\n",
       "          google.colab.kernel.accessAllowed ? 'block' : 'none';\n",
       "\n",
       "        async function convertToInteractive(key) {\n",
       "          const element = document.querySelector('#df-6d397bcb-fb93-4ef4-847e-a2867225f3fa');\n",
       "          const dataTable =\n",
       "            await google.colab.kernel.invokeFunction('convertToInteractive',\n",
       "                                                     [key], {});\n",
       "          if (!dataTable) return;\n",
       "\n",
       "          const docLinkHtml = 'Like what you see? Visit the ' +\n",
       "            '<a target=\"_blank\" href=https://colab.research.google.com/notebooks/data_table.ipynb>data table notebook</a>'\n",
       "            + ' to learn more about interactive tables.';\n",
       "          element.innerHTML = '';\n",
       "          dataTable['output_type'] = 'display_data';\n",
       "          await google.colab.output.renderOutput(dataTable, element);\n",
       "          const docLink = document.createElement('div');\n",
       "          docLink.innerHTML = docLinkHtml;\n",
       "          element.appendChild(docLink);\n",
       "        }\n",
       "      </script>\n",
       "    </div>\n",
       "  </div>\n",
       "  "
      ],
      "text/plain": [
       "       2                                           Great CD  \\\n",
       "0      2  One of the best game music soundtracks - for a...   \n",
       "1      1                   Batteries died within a year ...   \n",
       "2      2              works fine, but Maha Energy is better   \n",
       "3      2                       Great for the non-audiophile   \n",
       "4      1              DVD Player crapped out after one year   \n",
       "...   ..                                                ...   \n",
       "9996   2                            Love it Love it Love it   \n",
       "9997   1            Faulty leg causing distress for my baby   \n",
       "9998   2                              Fantastic Entertainer   \n",
       "9999   1                                  You can do better   \n",
       "10000  2                             Best purchase ever!!!!   \n",
       "\n",
       "      My lovely Pat has one of the GREAT voices of her generation. I have listened to this CD for YEARS and I still LOVE IT. When I'm in a good mood it makes me feel better. A bad mood just evaporates like sugar in the rain. This CD just oozes LIFE. Vocals are jusat STUUNNING and lyrics just kill. One of life's hidden gems. This is a desert isle CD in my book. Why she never made it big is just beyond me. Everytime I play this, no matter black, white, young, old, male, female EVERYBODY says one thing \"Who was that singing ?\"  \n",
       "0      Despite the fact that I have only played a sma...                                                                                                                                                                                                                                                                                                                                                                                                                                                                                           \n",
       "1      I bought this charger in Jul 2003 and it worke...                                                                                                                                                                                                                                                                                                                                                                                                                                                                                           \n",
       "2      Check out Maha Energy's website. Their Powerex...                                                                                                                                                                                                                                                                                                                                                                                                                                                                                           \n",
       "3      Reviewed quite a bit of the combo players and ...                                                                                                                                                                                                                                                                                                                                                                                                                                                                                           \n",
       "4      I also began having the incorrect disc problem...                                                                                                                                                                                                                                                                                                                                                                                                                                                                                           \n",
       "...                                                  ...                                                                                                                                                                                                                                                                                                                                                                                                                                                                                           \n",
       "9996   My daughter loves this, she is six months old ...                                                                                                                                                                                                                                                                                                                                                                                                                                                                                           \n",
       "9997   I purchased this item for my 6 month old baby ...                                                                                                                                                                                                                                                                                                                                                                                                                                                                                           \n",
       "9998   My daughter started enjoying this around 4-1/2...                                                                                                                                                                                                                                                                                                                                                                                                                                                                                           \n",
       "9999   I am a first time mom and loved the baby einst...                                                                                                                                                                                                                                                                                                                                                                                                                                                                                           \n",
       "10000  We bought this exersaucer when our little guy ...                                                                                                                                                                                                                                                                                                                                                                                                                                                                                           \n",
       "\n",
       "[10001 rows x 3 columns]"
      ]
     },
     "execution_count": 46,
     "metadata": {},
     "output_type": "execute_result"
    }
   ],
   "source": [
    "df_test"
   ]
  },
  {
   "cell_type": "code",
   "execution_count": 47,
   "metadata": {
    "colab": {
     "base_uri": "https://localhost:8080/"
    },
    "executionInfo": {
     "elapsed": 10,
     "status": "ok",
     "timestamp": 1686215122922,
     "user": {
      "displayName": "Shabna Binth Nazar",
      "userId": "17143942376566095443"
     },
     "user_tz": -330
    },
    "id": "UZ4nFB2dGoZF",
    "outputId": "206d579e-3efa-4b6a-f294-47b0fbcc62ee"
   },
   "outputs": [
    {
     "name": "stdout",
     "output_type": "stream",
     "text": [
      "<class 'pandas.core.frame.DataFrame'>\n",
      "RangeIndex: 100019 entries, 0 to 100018\n",
      "Data columns (total 3 columns):\n",
      " #   Column                                                                                                                                                                                                                                                                                                                                                                                                      Non-Null Count   Dtype \n",
      "---  ------                                                                                                                                                                                                                                                                                                                                                                                                      --------------   ----- \n",
      " 0   2                                                                                                                                                                                                                                                                                                                                                                                                           100019 non-null  int64 \n",
      " 1   Stuning even for the non-gamer                                                                                                                                                                                                                                                                                                                                                                              100016 non-null  object\n",
      " 2   This sound track was beautiful! It paints the senery in your mind so well I would recomend it even to people who hate vid. game music! I have played the game Chrono Cross but out of all of the games I have ever played it has the best music! It backs away from crude keyboarding and takes a fresher step with grate guitars and soulful orchestras. It would impress anyone who cares to listen! ^_^  100019 non-null  object\n",
      "dtypes: int64(1), object(2)\n",
      "memory usage: 2.3+ MB\n"
     ]
    }
   ],
   "source": [
    "df_train.info()"
   ]
  },
  {
   "cell_type": "code",
   "execution_count": 48,
   "metadata": {
    "colab": {
     "base_uri": "https://localhost:8080/",
     "height": 371
    },
    "executionInfo": {
     "elapsed": 22,
     "status": "ok",
     "timestamp": 1686215124526,
     "user": {
      "displayName": "Shabna Binth Nazar",
      "userId": "17143942376566095443"
     },
     "user_tz": -330
    },
    "id": "TDi5JtVQCCtV",
    "outputId": "0cabb778-db5b-484e-c7bf-046e34585f02"
   },
   "outputs": [
    {
     "data": {
      "text/html": [
       "\n",
       "  <div id=\"df-9c167071-1af2-462d-a45d-b83454bfd672\">\n",
       "    <div class=\"colab-df-container\">\n",
       "      <div>\n",
       "<style scoped>\n",
       "    .dataframe tbody tr th:only-of-type {\n",
       "        vertical-align: middle;\n",
       "    }\n",
       "\n",
       "    .dataframe tbody tr th {\n",
       "        vertical-align: top;\n",
       "    }\n",
       "\n",
       "    .dataframe thead th {\n",
       "        text-align: right;\n",
       "    }\n",
       "</style>\n",
       "<table border=\"1\" class=\"dataframe\">\n",
       "  <thead>\n",
       "    <tr style=\"text-align: right;\">\n",
       "      <th></th>\n",
       "      <th>2</th>\n",
       "      <th>Stuning even for the non-gamer</th>\n",
       "      <th>This sound track was beautiful! It paints the senery in your mind so well I would recomend it even to people who hate vid. game music! I have played the game Chrono Cross but out of all of the games I have ever played it has the best music! It backs away from crude keyboarding and takes a fresher step with grate guitars and soulful orchestras. It would impress anyone who cares to listen! ^_^</th>\n",
       "    </tr>\n",
       "  </thead>\n",
       "  <tbody>\n",
       "    <tr>\n",
       "      <th>0</th>\n",
       "      <td>2</td>\n",
       "      <td>The best soundtrack ever to anything.</td>\n",
       "      <td>I'm reading a lot of reviews saying that this ...</td>\n",
       "    </tr>\n",
       "    <tr>\n",
       "      <th>1</th>\n",
       "      <td>2</td>\n",
       "      <td>Amazing!</td>\n",
       "      <td>This soundtrack is my favorite music of all ti...</td>\n",
       "    </tr>\n",
       "    <tr>\n",
       "      <th>2</th>\n",
       "      <td>2</td>\n",
       "      <td>Excellent Soundtrack</td>\n",
       "      <td>I truly like this soundtrack and I enjoy video...</td>\n",
       "    </tr>\n",
       "    <tr>\n",
       "      <th>3</th>\n",
       "      <td>2</td>\n",
       "      <td>Remember, Pull Your Jaw Off The Floor After He...</td>\n",
       "      <td>If you've played the game, you know how divine...</td>\n",
       "    </tr>\n",
       "    <tr>\n",
       "      <th>4</th>\n",
       "      <td>2</td>\n",
       "      <td>an absolute masterpiece</td>\n",
       "      <td>I am quite sure any of you actually taking the...</td>\n",
       "    </tr>\n",
       "  </tbody>\n",
       "</table>\n",
       "</div>\n",
       "      <button class=\"colab-df-convert\" onclick=\"convertToInteractive('df-9c167071-1af2-462d-a45d-b83454bfd672')\"\n",
       "              title=\"Convert this dataframe to an interactive table.\"\n",
       "              style=\"display:none;\">\n",
       "        \n",
       "  <svg xmlns=\"http://www.w3.org/2000/svg\" height=\"24px\"viewBox=\"0 0 24 24\"\n",
       "       width=\"24px\">\n",
       "    <path d=\"M0 0h24v24H0V0z\" fill=\"none\"/>\n",
       "    <path d=\"M18.56 5.44l.94 2.06.94-2.06 2.06-.94-2.06-.94-.94-2.06-.94 2.06-2.06.94zm-11 1L8.5 8.5l.94-2.06 2.06-.94-2.06-.94L8.5 2.5l-.94 2.06-2.06.94zm10 10l.94 2.06.94-2.06 2.06-.94-2.06-.94-.94-2.06-.94 2.06-2.06.94z\"/><path d=\"M17.41 7.96l-1.37-1.37c-.4-.4-.92-.59-1.43-.59-.52 0-1.04.2-1.43.59L10.3 9.45l-7.72 7.72c-.78.78-.78 2.05 0 2.83L4 21.41c.39.39.9.59 1.41.59.51 0 1.02-.2 1.41-.59l7.78-7.78 2.81-2.81c.8-.78.8-2.07 0-2.86zM5.41 20L4 18.59l7.72-7.72 1.47 1.35L5.41 20z\"/>\n",
       "  </svg>\n",
       "      </button>\n",
       "      \n",
       "  <style>\n",
       "    .colab-df-container {\n",
       "      display:flex;\n",
       "      flex-wrap:wrap;\n",
       "      gap: 12px;\n",
       "    }\n",
       "\n",
       "    .colab-df-convert {\n",
       "      background-color: #E8F0FE;\n",
       "      border: none;\n",
       "      border-radius: 50%;\n",
       "      cursor: pointer;\n",
       "      display: none;\n",
       "      fill: #1967D2;\n",
       "      height: 32px;\n",
       "      padding: 0 0 0 0;\n",
       "      width: 32px;\n",
       "    }\n",
       "\n",
       "    .colab-df-convert:hover {\n",
       "      background-color: #E2EBFA;\n",
       "      box-shadow: 0px 1px 2px rgba(60, 64, 67, 0.3), 0px 1px 3px 1px rgba(60, 64, 67, 0.15);\n",
       "      fill: #174EA6;\n",
       "    }\n",
       "\n",
       "    [theme=dark] .colab-df-convert {\n",
       "      background-color: #3B4455;\n",
       "      fill: #D2E3FC;\n",
       "    }\n",
       "\n",
       "    [theme=dark] .colab-df-convert:hover {\n",
       "      background-color: #434B5C;\n",
       "      box-shadow: 0px 1px 3px 1px rgba(0, 0, 0, 0.15);\n",
       "      filter: drop-shadow(0px 1px 2px rgba(0, 0, 0, 0.3));\n",
       "      fill: #FFFFFF;\n",
       "    }\n",
       "  </style>\n",
       "\n",
       "      <script>\n",
       "        const buttonEl =\n",
       "          document.querySelector('#df-9c167071-1af2-462d-a45d-b83454bfd672 button.colab-df-convert');\n",
       "        buttonEl.style.display =\n",
       "          google.colab.kernel.accessAllowed ? 'block' : 'none';\n",
       "\n",
       "        async function convertToInteractive(key) {\n",
       "          const element = document.querySelector('#df-9c167071-1af2-462d-a45d-b83454bfd672');\n",
       "          const dataTable =\n",
       "            await google.colab.kernel.invokeFunction('convertToInteractive',\n",
       "                                                     [key], {});\n",
       "          if (!dataTable) return;\n",
       "\n",
       "          const docLinkHtml = 'Like what you see? Visit the ' +\n",
       "            '<a target=\"_blank\" href=https://colab.research.google.com/notebooks/data_table.ipynb>data table notebook</a>'\n",
       "            + ' to learn more about interactive tables.';\n",
       "          element.innerHTML = '';\n",
       "          dataTable['output_type'] = 'display_data';\n",
       "          await google.colab.output.renderOutput(dataTable, element);\n",
       "          const docLink = document.createElement('div');\n",
       "          docLink.innerHTML = docLinkHtml;\n",
       "          element.appendChild(docLink);\n",
       "        }\n",
       "      </script>\n",
       "    </div>\n",
       "  </div>\n",
       "  "
      ],
      "text/plain": [
       "   2                     Stuning even for the non-gamer  \\\n",
       "0  2              The best soundtrack ever to anything.   \n",
       "1  2                                           Amazing!   \n",
       "2  2                               Excellent Soundtrack   \n",
       "3  2  Remember, Pull Your Jaw Off The Floor After He...   \n",
       "4  2                            an absolute masterpiece   \n",
       "\n",
       "  This sound track was beautiful! It paints the senery in your mind so well I would recomend it even to people who hate vid. game music! I have played the game Chrono Cross but out of all of the games I have ever played it has the best music! It backs away from crude keyboarding and takes a fresher step with grate guitars and soulful orchestras. It would impress anyone who cares to listen! ^_^  \n",
       "0  I'm reading a lot of reviews saying that this ...                                                                                                                                                                                                                                                                                                                                                          \n",
       "1  This soundtrack is my favorite music of all ti...                                                                                                                                                                                                                                                                                                                                                          \n",
       "2  I truly like this soundtrack and I enjoy video...                                                                                                                                                                                                                                                                                                                                                          \n",
       "3  If you've played the game, you know how divine...                                                                                                                                                                                                                                                                                                                                                          \n",
       "4  I am quite sure any of you actually taking the...                                                                                                                                                                                                                                                                                                                                                          "
      ]
     },
     "execution_count": 48,
     "metadata": {},
     "output_type": "execute_result"
    }
   ],
   "source": [
    "df_train.head()"
   ]
  },
  {
   "cell_type": "code",
   "execution_count": 49,
   "metadata": {
    "colab": {
     "base_uri": "https://localhost:8080/",
     "height": 206
    },
    "executionInfo": {
     "elapsed": 17,
     "status": "ok",
     "timestamp": 1686215125968,
     "user": {
      "displayName": "Shabna Binth Nazar",
      "userId": "17143942376566095443"
     },
     "user_tz": -330
    },
    "id": "v6RMG-hUJhCD",
    "outputId": "ba04ba66-bcee-46a1-db9e-2a9c79f5c1c4"
   },
   "outputs": [
    {
     "data": {
      "text/html": [
       "\n",
       "  <div id=\"df-0904f92c-78fb-4f3e-8def-134d5db329c3\">\n",
       "    <div class=\"colab-df-container\">\n",
       "      <div>\n",
       "<style scoped>\n",
       "    .dataframe tbody tr th:only-of-type {\n",
       "        vertical-align: middle;\n",
       "    }\n",
       "\n",
       "    .dataframe tbody tr th {\n",
       "        vertical-align: top;\n",
       "    }\n",
       "\n",
       "    .dataframe thead th {\n",
       "        text-align: right;\n",
       "    }\n",
       "</style>\n",
       "<table border=\"1\" class=\"dataframe\">\n",
       "  <thead>\n",
       "    <tr style=\"text-align: right;\">\n",
       "      <th></th>\n",
       "      <th>label</th>\n",
       "      <th>title</th>\n",
       "      <th>text</th>\n",
       "    </tr>\n",
       "  </thead>\n",
       "  <tbody>\n",
       "    <tr>\n",
       "      <th>0</th>\n",
       "      <td>2</td>\n",
       "      <td>The best soundtrack ever to anything.</td>\n",
       "      <td>I'm reading a lot of reviews saying that this ...</td>\n",
       "    </tr>\n",
       "    <tr>\n",
       "      <th>1</th>\n",
       "      <td>2</td>\n",
       "      <td>Amazing!</td>\n",
       "      <td>This soundtrack is my favorite music of all ti...</td>\n",
       "    </tr>\n",
       "    <tr>\n",
       "      <th>2</th>\n",
       "      <td>2</td>\n",
       "      <td>Excellent Soundtrack</td>\n",
       "      <td>I truly like this soundtrack and I enjoy video...</td>\n",
       "    </tr>\n",
       "    <tr>\n",
       "      <th>3</th>\n",
       "      <td>2</td>\n",
       "      <td>Remember, Pull Your Jaw Off The Floor After He...</td>\n",
       "      <td>If you've played the game, you know how divine...</td>\n",
       "    </tr>\n",
       "    <tr>\n",
       "      <th>4</th>\n",
       "      <td>2</td>\n",
       "      <td>an absolute masterpiece</td>\n",
       "      <td>I am quite sure any of you actually taking the...</td>\n",
       "    </tr>\n",
       "  </tbody>\n",
       "</table>\n",
       "</div>\n",
       "      <button class=\"colab-df-convert\" onclick=\"convertToInteractive('df-0904f92c-78fb-4f3e-8def-134d5db329c3')\"\n",
       "              title=\"Convert this dataframe to an interactive table.\"\n",
       "              style=\"display:none;\">\n",
       "        \n",
       "  <svg xmlns=\"http://www.w3.org/2000/svg\" height=\"24px\"viewBox=\"0 0 24 24\"\n",
       "       width=\"24px\">\n",
       "    <path d=\"M0 0h24v24H0V0z\" fill=\"none\"/>\n",
       "    <path d=\"M18.56 5.44l.94 2.06.94-2.06 2.06-.94-2.06-.94-.94-2.06-.94 2.06-2.06.94zm-11 1L8.5 8.5l.94-2.06 2.06-.94-2.06-.94L8.5 2.5l-.94 2.06-2.06.94zm10 10l.94 2.06.94-2.06 2.06-.94-2.06-.94-.94-2.06-.94 2.06-2.06.94z\"/><path d=\"M17.41 7.96l-1.37-1.37c-.4-.4-.92-.59-1.43-.59-.52 0-1.04.2-1.43.59L10.3 9.45l-7.72 7.72c-.78.78-.78 2.05 0 2.83L4 21.41c.39.39.9.59 1.41.59.51 0 1.02-.2 1.41-.59l7.78-7.78 2.81-2.81c.8-.78.8-2.07 0-2.86zM5.41 20L4 18.59l7.72-7.72 1.47 1.35L5.41 20z\"/>\n",
       "  </svg>\n",
       "      </button>\n",
       "      \n",
       "  <style>\n",
       "    .colab-df-container {\n",
       "      display:flex;\n",
       "      flex-wrap:wrap;\n",
       "      gap: 12px;\n",
       "    }\n",
       "\n",
       "    .colab-df-convert {\n",
       "      background-color: #E8F0FE;\n",
       "      border: none;\n",
       "      border-radius: 50%;\n",
       "      cursor: pointer;\n",
       "      display: none;\n",
       "      fill: #1967D2;\n",
       "      height: 32px;\n",
       "      padding: 0 0 0 0;\n",
       "      width: 32px;\n",
       "    }\n",
       "\n",
       "    .colab-df-convert:hover {\n",
       "      background-color: #E2EBFA;\n",
       "      box-shadow: 0px 1px 2px rgba(60, 64, 67, 0.3), 0px 1px 3px 1px rgba(60, 64, 67, 0.15);\n",
       "      fill: #174EA6;\n",
       "    }\n",
       "\n",
       "    [theme=dark] .colab-df-convert {\n",
       "      background-color: #3B4455;\n",
       "      fill: #D2E3FC;\n",
       "    }\n",
       "\n",
       "    [theme=dark] .colab-df-convert:hover {\n",
       "      background-color: #434B5C;\n",
       "      box-shadow: 0px 1px 3px 1px rgba(0, 0, 0, 0.15);\n",
       "      filter: drop-shadow(0px 1px 2px rgba(0, 0, 0, 0.3));\n",
       "      fill: #FFFFFF;\n",
       "    }\n",
       "  </style>\n",
       "\n",
       "      <script>\n",
       "        const buttonEl =\n",
       "          document.querySelector('#df-0904f92c-78fb-4f3e-8def-134d5db329c3 button.colab-df-convert');\n",
       "        buttonEl.style.display =\n",
       "          google.colab.kernel.accessAllowed ? 'block' : 'none';\n",
       "\n",
       "        async function convertToInteractive(key) {\n",
       "          const element = document.querySelector('#df-0904f92c-78fb-4f3e-8def-134d5db329c3');\n",
       "          const dataTable =\n",
       "            await google.colab.kernel.invokeFunction('convertToInteractive',\n",
       "                                                     [key], {});\n",
       "          if (!dataTable) return;\n",
       "\n",
       "          const docLinkHtml = 'Like what you see? Visit the ' +\n",
       "            '<a target=\"_blank\" href=https://colab.research.google.com/notebooks/data_table.ipynb>data table notebook</a>'\n",
       "            + ' to learn more about interactive tables.';\n",
       "          element.innerHTML = '';\n",
       "          dataTable['output_type'] = 'display_data';\n",
       "          await google.colab.output.renderOutput(dataTable, element);\n",
       "          const docLink = document.createElement('div');\n",
       "          docLink.innerHTML = docLinkHtml;\n",
       "          element.appendChild(docLink);\n",
       "        }\n",
       "      </script>\n",
       "    </div>\n",
       "  </div>\n",
       "  "
      ],
      "text/plain": [
       "   label                                              title  \\\n",
       "0      2              The best soundtrack ever to anything.   \n",
       "1      2                                           Amazing!   \n",
       "2      2                               Excellent Soundtrack   \n",
       "3      2  Remember, Pull Your Jaw Off The Floor After He...   \n",
       "4      2                            an absolute masterpiece   \n",
       "\n",
       "                                                text  \n",
       "0  I'm reading a lot of reviews saying that this ...  \n",
       "1  This soundtrack is my favorite music of all ti...  \n",
       "2  I truly like this soundtrack and I enjoy video...  \n",
       "3  If you've played the game, you know how divine...  \n",
       "4  I am quite sure any of you actually taking the...  "
      ]
     },
     "execution_count": 49,
     "metadata": {},
     "output_type": "execute_result"
    }
   ],
   "source": [
    "df_train.columns = ['label', 'title', 'text']\n",
    "df_train.head()"
   ]
  },
  {
   "cell_type": "code",
   "execution_count": 50,
   "metadata": {
    "colab": {
     "base_uri": "https://localhost:8080/",
     "height": 206
    },
    "executionInfo": {
     "elapsed": 597,
     "status": "ok",
     "timestamp": 1686215129032,
     "user": {
      "displayName": "Shabna Binth Nazar",
      "userId": "17143942376566095443"
     },
     "user_tz": -330
    },
    "id": "Fkaua4z_sMrK",
    "outputId": "157436ba-b5e5-4a84-a6f9-2ae0e049be36"
   },
   "outputs": [
    {
     "data": {
      "text/html": [
       "\n",
       "  <div id=\"df-e39e8029-46c8-4a24-99f3-bf98973cada3\">\n",
       "    <div class=\"colab-df-container\">\n",
       "      <div>\n",
       "<style scoped>\n",
       "    .dataframe tbody tr th:only-of-type {\n",
       "        vertical-align: middle;\n",
       "    }\n",
       "\n",
       "    .dataframe tbody tr th {\n",
       "        vertical-align: top;\n",
       "    }\n",
       "\n",
       "    .dataframe thead th {\n",
       "        text-align: right;\n",
       "    }\n",
       "</style>\n",
       "<table border=\"1\" class=\"dataframe\">\n",
       "  <thead>\n",
       "    <tr style=\"text-align: right;\">\n",
       "      <th></th>\n",
       "      <th>label</th>\n",
       "      <th>title</th>\n",
       "      <th>text</th>\n",
       "    </tr>\n",
       "  </thead>\n",
       "  <tbody>\n",
       "    <tr>\n",
       "      <th>0</th>\n",
       "      <td>2</td>\n",
       "      <td>The best soundtrack ever to anything.</td>\n",
       "      <td>I'm reading a lot of reviews saying that this ...</td>\n",
       "    </tr>\n",
       "    <tr>\n",
       "      <th>1</th>\n",
       "      <td>2</td>\n",
       "      <td>Amazing!</td>\n",
       "      <td>This soundtrack is my favorite music of all ti...</td>\n",
       "    </tr>\n",
       "    <tr>\n",
       "      <th>2</th>\n",
       "      <td>2</td>\n",
       "      <td>Excellent Soundtrack</td>\n",
       "      <td>I truly like this soundtrack and I enjoy video...</td>\n",
       "    </tr>\n",
       "    <tr>\n",
       "      <th>3</th>\n",
       "      <td>2</td>\n",
       "      <td>Remember, Pull Your Jaw Off The Floor After He...</td>\n",
       "      <td>If you've played the game, you know how divine...</td>\n",
       "    </tr>\n",
       "    <tr>\n",
       "      <th>4</th>\n",
       "      <td>2</td>\n",
       "      <td>an absolute masterpiece</td>\n",
       "      <td>I am quite sure any of you actually taking the...</td>\n",
       "    </tr>\n",
       "  </tbody>\n",
       "</table>\n",
       "</div>\n",
       "      <button class=\"colab-df-convert\" onclick=\"convertToInteractive('df-e39e8029-46c8-4a24-99f3-bf98973cada3')\"\n",
       "              title=\"Convert this dataframe to an interactive table.\"\n",
       "              style=\"display:none;\">\n",
       "        \n",
       "  <svg xmlns=\"http://www.w3.org/2000/svg\" height=\"24px\"viewBox=\"0 0 24 24\"\n",
       "       width=\"24px\">\n",
       "    <path d=\"M0 0h24v24H0V0z\" fill=\"none\"/>\n",
       "    <path d=\"M18.56 5.44l.94 2.06.94-2.06 2.06-.94-2.06-.94-.94-2.06-.94 2.06-2.06.94zm-11 1L8.5 8.5l.94-2.06 2.06-.94-2.06-.94L8.5 2.5l-.94 2.06-2.06.94zm10 10l.94 2.06.94-2.06 2.06-.94-2.06-.94-.94-2.06-.94 2.06-2.06.94z\"/><path d=\"M17.41 7.96l-1.37-1.37c-.4-.4-.92-.59-1.43-.59-.52 0-1.04.2-1.43.59L10.3 9.45l-7.72 7.72c-.78.78-.78 2.05 0 2.83L4 21.41c.39.39.9.59 1.41.59.51 0 1.02-.2 1.41-.59l7.78-7.78 2.81-2.81c.8-.78.8-2.07 0-2.86zM5.41 20L4 18.59l7.72-7.72 1.47 1.35L5.41 20z\"/>\n",
       "  </svg>\n",
       "      </button>\n",
       "      \n",
       "  <style>\n",
       "    .colab-df-container {\n",
       "      display:flex;\n",
       "      flex-wrap:wrap;\n",
       "      gap: 12px;\n",
       "    }\n",
       "\n",
       "    .colab-df-convert {\n",
       "      background-color: #E8F0FE;\n",
       "      border: none;\n",
       "      border-radius: 50%;\n",
       "      cursor: pointer;\n",
       "      display: none;\n",
       "      fill: #1967D2;\n",
       "      height: 32px;\n",
       "      padding: 0 0 0 0;\n",
       "      width: 32px;\n",
       "    }\n",
       "\n",
       "    .colab-df-convert:hover {\n",
       "      background-color: #E2EBFA;\n",
       "      box-shadow: 0px 1px 2px rgba(60, 64, 67, 0.3), 0px 1px 3px 1px rgba(60, 64, 67, 0.15);\n",
       "      fill: #174EA6;\n",
       "    }\n",
       "\n",
       "    [theme=dark] .colab-df-convert {\n",
       "      background-color: #3B4455;\n",
       "      fill: #D2E3FC;\n",
       "    }\n",
       "\n",
       "    [theme=dark] .colab-df-convert:hover {\n",
       "      background-color: #434B5C;\n",
       "      box-shadow: 0px 1px 3px 1px rgba(0, 0, 0, 0.15);\n",
       "      filter: drop-shadow(0px 1px 2px rgba(0, 0, 0, 0.3));\n",
       "      fill: #FFFFFF;\n",
       "    }\n",
       "  </style>\n",
       "\n",
       "      <script>\n",
       "        const buttonEl =\n",
       "          document.querySelector('#df-e39e8029-46c8-4a24-99f3-bf98973cada3 button.colab-df-convert');\n",
       "        buttonEl.style.display =\n",
       "          google.colab.kernel.accessAllowed ? 'block' : 'none';\n",
       "\n",
       "        async function convertToInteractive(key) {\n",
       "          const element = document.querySelector('#df-e39e8029-46c8-4a24-99f3-bf98973cada3');\n",
       "          const dataTable =\n",
       "            await google.colab.kernel.invokeFunction('convertToInteractive',\n",
       "                                                     [key], {});\n",
       "          if (!dataTable) return;\n",
       "\n",
       "          const docLinkHtml = 'Like what you see? Visit the ' +\n",
       "            '<a target=\"_blank\" href=https://colab.research.google.com/notebooks/data_table.ipynb>data table notebook</a>'\n",
       "            + ' to learn more about interactive tables.';\n",
       "          element.innerHTML = '';\n",
       "          dataTable['output_type'] = 'display_data';\n",
       "          await google.colab.output.renderOutput(dataTable, element);\n",
       "          const docLink = document.createElement('div');\n",
       "          docLink.innerHTML = docLinkHtml;\n",
       "          element.appendChild(docLink);\n",
       "        }\n",
       "      </script>\n",
       "    </div>\n",
       "  </div>\n",
       "  "
      ],
      "text/plain": [
       "   label                                              title  \\\n",
       "0      2              The best soundtrack ever to anything.   \n",
       "1      2                                           Amazing!   \n",
       "2      2                               Excellent Soundtrack   \n",
       "3      2  Remember, Pull Your Jaw Off The Floor After He...   \n",
       "4      2                            an absolute masterpiece   \n",
       "\n",
       "                                                text  \n",
       "0  I'm reading a lot of reviews saying that this ...  \n",
       "1  This soundtrack is my favorite music of all ti...  \n",
       "2  I truly like this soundtrack and I enjoy video...  \n",
       "3  If you've played the game, you know how divine...  \n",
       "4  I am quite sure any of you actually taking the...  "
      ]
     },
     "execution_count": 50,
     "metadata": {},
     "output_type": "execute_result"
    }
   ],
   "source": [
    "df_test.columns = ['label', 'title', 'text']\n",
    "df_train.head()"
   ]
  },
  {
   "cell_type": "code",
   "execution_count": 51,
   "metadata": {
    "colab": {
     "base_uri": "https://localhost:8080/"
    },
    "executionInfo": {
     "elapsed": 8,
     "status": "ok",
     "timestamp": 1686215129678,
     "user": {
      "displayName": "Shabna Binth Nazar",
      "userId": "17143942376566095443"
     },
     "user_tz": -330
    },
    "id": "ZerhIaLqRpi_",
    "outputId": "4c2cae76-00a6-4e7e-d71b-963e0d208423"
   },
   "outputs": [
    {
     "data": {
      "text/plain": [
       "label    0\n",
       "title    3\n",
       "text     0\n",
       "dtype: int64"
      ]
     },
     "execution_count": 51,
     "metadata": {},
     "output_type": "execute_result"
    }
   ],
   "source": [
    "df_train.isna().sum()"
   ]
  },
  {
   "cell_type": "code",
   "execution_count": 52,
   "metadata": {
    "colab": {
     "base_uri": "https://localhost:8080/"
    },
    "executionInfo": {
     "elapsed": 11,
     "status": "ok",
     "timestamp": 1686215131255,
     "user": {
      "displayName": "Shabna Binth Nazar",
      "userId": "17143942376566095443"
     },
     "user_tz": -330
    },
    "id": "ETuBWxqcRtIp",
    "outputId": "9e6b99fb-19db-4de2-cfd1-1eb374df9bb4"
   },
   "outputs": [
    {
     "data": {
      "text/plain": [
       "label    0\n",
       "title    1\n",
       "text     0\n",
       "dtype: int64"
      ]
     },
     "execution_count": 52,
     "metadata": {},
     "output_type": "execute_result"
    }
   ],
   "source": [
    "df_test.isna().sum()"
   ]
  },
  {
   "cell_type": "code",
   "execution_count": 53,
   "metadata": {
    "colab": {
     "base_uri": "https://localhost:8080/",
     "height": 423
    },
    "executionInfo": {
     "elapsed": 24,
     "status": "ok",
     "timestamp": 1686215132865,
     "user": {
      "displayName": "Shabna Binth Nazar",
      "userId": "17143942376566095443"
     },
     "user_tz": -330
    },
    "id": "91ucnOJQy_1S",
    "outputId": "2bd54fdf-59b6-4463-def8-2ca7f63ae5f9"
   },
   "outputs": [
    {
     "data": {
      "text/html": [
       "\n",
       "  <div id=\"df-6efb97ef-dbc1-4c71-b48f-39769776cbef\">\n",
       "    <div class=\"colab-df-container\">\n",
       "      <div>\n",
       "<style scoped>\n",
       "    .dataframe tbody tr th:only-of-type {\n",
       "        vertical-align: middle;\n",
       "    }\n",
       "\n",
       "    .dataframe tbody tr th {\n",
       "        vertical-align: top;\n",
       "    }\n",
       "\n",
       "    .dataframe thead th {\n",
       "        text-align: right;\n",
       "    }\n",
       "</style>\n",
       "<table border=\"1\" class=\"dataframe\">\n",
       "  <thead>\n",
       "    <tr style=\"text-align: right;\">\n",
       "      <th></th>\n",
       "      <th>label</th>\n",
       "      <th>title</th>\n",
       "      <th>text</th>\n",
       "    </tr>\n",
       "  </thead>\n",
       "  <tbody>\n",
       "    <tr>\n",
       "      <th>0</th>\n",
       "      <td>2</td>\n",
       "      <td>One of the best game music soundtracks - for a...</td>\n",
       "      <td>Despite the fact that I have only played a sma...</td>\n",
       "    </tr>\n",
       "    <tr>\n",
       "      <th>1</th>\n",
       "      <td>1</td>\n",
       "      <td>Batteries died within a year ...</td>\n",
       "      <td>I bought this charger in Jul 2003 and it worke...</td>\n",
       "    </tr>\n",
       "    <tr>\n",
       "      <th>2</th>\n",
       "      <td>2</td>\n",
       "      <td>works fine, but Maha Energy is better</td>\n",
       "      <td>Check out Maha Energy's website. Their Powerex...</td>\n",
       "    </tr>\n",
       "    <tr>\n",
       "      <th>3</th>\n",
       "      <td>2</td>\n",
       "      <td>Great for the non-audiophile</td>\n",
       "      <td>Reviewed quite a bit of the combo players and ...</td>\n",
       "    </tr>\n",
       "    <tr>\n",
       "      <th>4</th>\n",
       "      <td>1</td>\n",
       "      <td>DVD Player crapped out after one year</td>\n",
       "      <td>I also began having the incorrect disc problem...</td>\n",
       "    </tr>\n",
       "    <tr>\n",
       "      <th>...</th>\n",
       "      <td>...</td>\n",
       "      <td>...</td>\n",
       "      <td>...</td>\n",
       "    </tr>\n",
       "    <tr>\n",
       "      <th>9996</th>\n",
       "      <td>2</td>\n",
       "      <td>Love it Love it Love it</td>\n",
       "      <td>My daughter loves this, she is six months old ...</td>\n",
       "    </tr>\n",
       "    <tr>\n",
       "      <th>9997</th>\n",
       "      <td>1</td>\n",
       "      <td>Faulty leg causing distress for my baby</td>\n",
       "      <td>I purchased this item for my 6 month old baby ...</td>\n",
       "    </tr>\n",
       "    <tr>\n",
       "      <th>9998</th>\n",
       "      <td>2</td>\n",
       "      <td>Fantastic Entertainer</td>\n",
       "      <td>My daughter started enjoying this around 4-1/2...</td>\n",
       "    </tr>\n",
       "    <tr>\n",
       "      <th>9999</th>\n",
       "      <td>1</td>\n",
       "      <td>You can do better</td>\n",
       "      <td>I am a first time mom and loved the baby einst...</td>\n",
       "    </tr>\n",
       "    <tr>\n",
       "      <th>10000</th>\n",
       "      <td>2</td>\n",
       "      <td>Best purchase ever!!!!</td>\n",
       "      <td>We bought this exersaucer when our little guy ...</td>\n",
       "    </tr>\n",
       "  </tbody>\n",
       "</table>\n",
       "<p>10000 rows × 3 columns</p>\n",
       "</div>\n",
       "      <button class=\"colab-df-convert\" onclick=\"convertToInteractive('df-6efb97ef-dbc1-4c71-b48f-39769776cbef')\"\n",
       "              title=\"Convert this dataframe to an interactive table.\"\n",
       "              style=\"display:none;\">\n",
       "        \n",
       "  <svg xmlns=\"http://www.w3.org/2000/svg\" height=\"24px\"viewBox=\"0 0 24 24\"\n",
       "       width=\"24px\">\n",
       "    <path d=\"M0 0h24v24H0V0z\" fill=\"none\"/>\n",
       "    <path d=\"M18.56 5.44l.94 2.06.94-2.06 2.06-.94-2.06-.94-.94-2.06-.94 2.06-2.06.94zm-11 1L8.5 8.5l.94-2.06 2.06-.94-2.06-.94L8.5 2.5l-.94 2.06-2.06.94zm10 10l.94 2.06.94-2.06 2.06-.94-2.06-.94-.94-2.06-.94 2.06-2.06.94z\"/><path d=\"M17.41 7.96l-1.37-1.37c-.4-.4-.92-.59-1.43-.59-.52 0-1.04.2-1.43.59L10.3 9.45l-7.72 7.72c-.78.78-.78 2.05 0 2.83L4 21.41c.39.39.9.59 1.41.59.51 0 1.02-.2 1.41-.59l7.78-7.78 2.81-2.81c.8-.78.8-2.07 0-2.86zM5.41 20L4 18.59l7.72-7.72 1.47 1.35L5.41 20z\"/>\n",
       "  </svg>\n",
       "      </button>\n",
       "      \n",
       "  <style>\n",
       "    .colab-df-container {\n",
       "      display:flex;\n",
       "      flex-wrap:wrap;\n",
       "      gap: 12px;\n",
       "    }\n",
       "\n",
       "    .colab-df-convert {\n",
       "      background-color: #E8F0FE;\n",
       "      border: none;\n",
       "      border-radius: 50%;\n",
       "      cursor: pointer;\n",
       "      display: none;\n",
       "      fill: #1967D2;\n",
       "      height: 32px;\n",
       "      padding: 0 0 0 0;\n",
       "      width: 32px;\n",
       "    }\n",
       "\n",
       "    .colab-df-convert:hover {\n",
       "      background-color: #E2EBFA;\n",
       "      box-shadow: 0px 1px 2px rgba(60, 64, 67, 0.3), 0px 1px 3px 1px rgba(60, 64, 67, 0.15);\n",
       "      fill: #174EA6;\n",
       "    }\n",
       "\n",
       "    [theme=dark] .colab-df-convert {\n",
       "      background-color: #3B4455;\n",
       "      fill: #D2E3FC;\n",
       "    }\n",
       "\n",
       "    [theme=dark] .colab-df-convert:hover {\n",
       "      background-color: #434B5C;\n",
       "      box-shadow: 0px 1px 3px 1px rgba(0, 0, 0, 0.15);\n",
       "      filter: drop-shadow(0px 1px 2px rgba(0, 0, 0, 0.3));\n",
       "      fill: #FFFFFF;\n",
       "    }\n",
       "  </style>\n",
       "\n",
       "      <script>\n",
       "        const buttonEl =\n",
       "          document.querySelector('#df-6efb97ef-dbc1-4c71-b48f-39769776cbef button.colab-df-convert');\n",
       "        buttonEl.style.display =\n",
       "          google.colab.kernel.accessAllowed ? 'block' : 'none';\n",
       "\n",
       "        async function convertToInteractive(key) {\n",
       "          const element = document.querySelector('#df-6efb97ef-dbc1-4c71-b48f-39769776cbef');\n",
       "          const dataTable =\n",
       "            await google.colab.kernel.invokeFunction('convertToInteractive',\n",
       "                                                     [key], {});\n",
       "          if (!dataTable) return;\n",
       "\n",
       "          const docLinkHtml = 'Like what you see? Visit the ' +\n",
       "            '<a target=\"_blank\" href=https://colab.research.google.com/notebooks/data_table.ipynb>data table notebook</a>'\n",
       "            + ' to learn more about interactive tables.';\n",
       "          element.innerHTML = '';\n",
       "          dataTable['output_type'] = 'display_data';\n",
       "          await google.colab.output.renderOutput(dataTable, element);\n",
       "          const docLink = document.createElement('div');\n",
       "          docLink.innerHTML = docLinkHtml;\n",
       "          element.appendChild(docLink);\n",
       "        }\n",
       "      </script>\n",
       "    </div>\n",
       "  </div>\n",
       "  "
      ],
      "text/plain": [
       "       label                                              title  \\\n",
       "0          2  One of the best game music soundtracks - for a...   \n",
       "1          1                   Batteries died within a year ...   \n",
       "2          2              works fine, but Maha Energy is better   \n",
       "3          2                       Great for the non-audiophile   \n",
       "4          1              DVD Player crapped out after one year   \n",
       "...      ...                                                ...   \n",
       "9996       2                            Love it Love it Love it   \n",
       "9997       1            Faulty leg causing distress for my baby   \n",
       "9998       2                              Fantastic Entertainer   \n",
       "9999       1                                  You can do better   \n",
       "10000      2                             Best purchase ever!!!!   \n",
       "\n",
       "                                                    text  \n",
       "0      Despite the fact that I have only played a sma...  \n",
       "1      I bought this charger in Jul 2003 and it worke...  \n",
       "2      Check out Maha Energy's website. Their Powerex...  \n",
       "3      Reviewed quite a bit of the combo players and ...  \n",
       "4      I also began having the incorrect disc problem...  \n",
       "...                                                  ...  \n",
       "9996   My daughter loves this, she is six months old ...  \n",
       "9997   I purchased this item for my 6 month old baby ...  \n",
       "9998   My daughter started enjoying this around 4-1/2...  \n",
       "9999   I am a first time mom and loved the baby einst...  \n",
       "10000  We bought this exersaucer when our little guy ...  \n",
       "\n",
       "[10000 rows x 3 columns]"
      ]
     },
     "execution_count": 53,
     "metadata": {},
     "output_type": "execute_result"
    }
   ],
   "source": [
    "df_test.dropna()"
   ]
  },
  {
   "cell_type": "code",
   "execution_count": 54,
   "metadata": {
    "colab": {
     "base_uri": "https://localhost:8080/",
     "height": 423
    },
    "executionInfo": {
     "elapsed": 419,
     "status": "ok",
     "timestamp": 1686215135628,
     "user": {
      "displayName": "Shabna Binth Nazar",
      "userId": "17143942376566095443"
     },
     "user_tz": -330
    },
    "id": "iYLXUL6qy5-_",
    "outputId": "1e45d047-76b4-4a90-a089-4467e734eb40"
   },
   "outputs": [
    {
     "data": {
      "text/html": [
       "\n",
       "  <div id=\"df-b36711e0-9be4-4fcd-ad0f-1389c7d35a3e\">\n",
       "    <div class=\"colab-df-container\">\n",
       "      <div>\n",
       "<style scoped>\n",
       "    .dataframe tbody tr th:only-of-type {\n",
       "        vertical-align: middle;\n",
       "    }\n",
       "\n",
       "    .dataframe tbody tr th {\n",
       "        vertical-align: top;\n",
       "    }\n",
       "\n",
       "    .dataframe thead th {\n",
       "        text-align: right;\n",
       "    }\n",
       "</style>\n",
       "<table border=\"1\" class=\"dataframe\">\n",
       "  <thead>\n",
       "    <tr style=\"text-align: right;\">\n",
       "      <th></th>\n",
       "      <th>label</th>\n",
       "      <th>title</th>\n",
       "      <th>text</th>\n",
       "    </tr>\n",
       "  </thead>\n",
       "  <tbody>\n",
       "    <tr>\n",
       "      <th>0</th>\n",
       "      <td>2</td>\n",
       "      <td>The best soundtrack ever to anything.</td>\n",
       "      <td>I'm reading a lot of reviews saying that this ...</td>\n",
       "    </tr>\n",
       "    <tr>\n",
       "      <th>1</th>\n",
       "      <td>2</td>\n",
       "      <td>Amazing!</td>\n",
       "      <td>This soundtrack is my favorite music of all ti...</td>\n",
       "    </tr>\n",
       "    <tr>\n",
       "      <th>2</th>\n",
       "      <td>2</td>\n",
       "      <td>Excellent Soundtrack</td>\n",
       "      <td>I truly like this soundtrack and I enjoy video...</td>\n",
       "    </tr>\n",
       "    <tr>\n",
       "      <th>3</th>\n",
       "      <td>2</td>\n",
       "      <td>Remember, Pull Your Jaw Off The Floor After He...</td>\n",
       "      <td>If you've played the game, you know how divine...</td>\n",
       "    </tr>\n",
       "    <tr>\n",
       "      <th>4</th>\n",
       "      <td>2</td>\n",
       "      <td>an absolute masterpiece</td>\n",
       "      <td>I am quite sure any of you actually taking the...</td>\n",
       "    </tr>\n",
       "    <tr>\n",
       "      <th>...</th>\n",
       "      <td>...</td>\n",
       "      <td>...</td>\n",
       "      <td>...</td>\n",
       "    </tr>\n",
       "    <tr>\n",
       "      <th>100014</th>\n",
       "      <td>1</td>\n",
       "      <td>dont buy this.</td>\n",
       "      <td>i wish i could give AFI 0 stars. all they make...</td>\n",
       "    </tr>\n",
       "    <tr>\n",
       "      <th>100015</th>\n",
       "      <td>1</td>\n",
       "      <td>Kiddie-Core to the max</td>\n",
       "      <td>(...) AFI comes off like a terrible C-grade mi...</td>\n",
       "    </tr>\n",
       "    <tr>\n",
       "      <th>100016</th>\n",
       "      <td>2</td>\n",
       "      <td>*bawls bc she can't find her AoD CD*</td>\n",
       "      <td>Wonderful, wonderful. *beams* Beautiful album,...</td>\n",
       "    </tr>\n",
       "    <tr>\n",
       "      <th>100017</th>\n",
       "      <td>2</td>\n",
       "      <td>AWESOME!</td>\n",
       "      <td>This CD is AWESOME! Some people say this is te...</td>\n",
       "    </tr>\n",
       "    <tr>\n",
       "      <th>100018</th>\n",
       "      <td>2</td>\n",
       "      <td>Even better than Black Sails</td>\n",
       "      <td>BSITS marked a transitional phase for AFI, and...</td>\n",
       "    </tr>\n",
       "  </tbody>\n",
       "</table>\n",
       "<p>100016 rows × 3 columns</p>\n",
       "</div>\n",
       "      <button class=\"colab-df-convert\" onclick=\"convertToInteractive('df-b36711e0-9be4-4fcd-ad0f-1389c7d35a3e')\"\n",
       "              title=\"Convert this dataframe to an interactive table.\"\n",
       "              style=\"display:none;\">\n",
       "        \n",
       "  <svg xmlns=\"http://www.w3.org/2000/svg\" height=\"24px\"viewBox=\"0 0 24 24\"\n",
       "       width=\"24px\">\n",
       "    <path d=\"M0 0h24v24H0V0z\" fill=\"none\"/>\n",
       "    <path d=\"M18.56 5.44l.94 2.06.94-2.06 2.06-.94-2.06-.94-.94-2.06-.94 2.06-2.06.94zm-11 1L8.5 8.5l.94-2.06 2.06-.94-2.06-.94L8.5 2.5l-.94 2.06-2.06.94zm10 10l.94 2.06.94-2.06 2.06-.94-2.06-.94-.94-2.06-.94 2.06-2.06.94z\"/><path d=\"M17.41 7.96l-1.37-1.37c-.4-.4-.92-.59-1.43-.59-.52 0-1.04.2-1.43.59L10.3 9.45l-7.72 7.72c-.78.78-.78 2.05 0 2.83L4 21.41c.39.39.9.59 1.41.59.51 0 1.02-.2 1.41-.59l7.78-7.78 2.81-2.81c.8-.78.8-2.07 0-2.86zM5.41 20L4 18.59l7.72-7.72 1.47 1.35L5.41 20z\"/>\n",
       "  </svg>\n",
       "      </button>\n",
       "      \n",
       "  <style>\n",
       "    .colab-df-container {\n",
       "      display:flex;\n",
       "      flex-wrap:wrap;\n",
       "      gap: 12px;\n",
       "    }\n",
       "\n",
       "    .colab-df-convert {\n",
       "      background-color: #E8F0FE;\n",
       "      border: none;\n",
       "      border-radius: 50%;\n",
       "      cursor: pointer;\n",
       "      display: none;\n",
       "      fill: #1967D2;\n",
       "      height: 32px;\n",
       "      padding: 0 0 0 0;\n",
       "      width: 32px;\n",
       "    }\n",
       "\n",
       "    .colab-df-convert:hover {\n",
       "      background-color: #E2EBFA;\n",
       "      box-shadow: 0px 1px 2px rgba(60, 64, 67, 0.3), 0px 1px 3px 1px rgba(60, 64, 67, 0.15);\n",
       "      fill: #174EA6;\n",
       "    }\n",
       "\n",
       "    [theme=dark] .colab-df-convert {\n",
       "      background-color: #3B4455;\n",
       "      fill: #D2E3FC;\n",
       "    }\n",
       "\n",
       "    [theme=dark] .colab-df-convert:hover {\n",
       "      background-color: #434B5C;\n",
       "      box-shadow: 0px 1px 3px 1px rgba(0, 0, 0, 0.15);\n",
       "      filter: drop-shadow(0px 1px 2px rgba(0, 0, 0, 0.3));\n",
       "      fill: #FFFFFF;\n",
       "    }\n",
       "  </style>\n",
       "\n",
       "      <script>\n",
       "        const buttonEl =\n",
       "          document.querySelector('#df-b36711e0-9be4-4fcd-ad0f-1389c7d35a3e button.colab-df-convert');\n",
       "        buttonEl.style.display =\n",
       "          google.colab.kernel.accessAllowed ? 'block' : 'none';\n",
       "\n",
       "        async function convertToInteractive(key) {\n",
       "          const element = document.querySelector('#df-b36711e0-9be4-4fcd-ad0f-1389c7d35a3e');\n",
       "          const dataTable =\n",
       "            await google.colab.kernel.invokeFunction('convertToInteractive',\n",
       "                                                     [key], {});\n",
       "          if (!dataTable) return;\n",
       "\n",
       "          const docLinkHtml = 'Like what you see? Visit the ' +\n",
       "            '<a target=\"_blank\" href=https://colab.research.google.com/notebooks/data_table.ipynb>data table notebook</a>'\n",
       "            + ' to learn more about interactive tables.';\n",
       "          element.innerHTML = '';\n",
       "          dataTable['output_type'] = 'display_data';\n",
       "          await google.colab.output.renderOutput(dataTable, element);\n",
       "          const docLink = document.createElement('div');\n",
       "          docLink.innerHTML = docLinkHtml;\n",
       "          element.appendChild(docLink);\n",
       "        }\n",
       "      </script>\n",
       "    </div>\n",
       "  </div>\n",
       "  "
      ],
      "text/plain": [
       "        label                                              title  \\\n",
       "0           2              The best soundtrack ever to anything.   \n",
       "1           2                                           Amazing!   \n",
       "2           2                               Excellent Soundtrack   \n",
       "3           2  Remember, Pull Your Jaw Off The Floor After He...   \n",
       "4           2                            an absolute masterpiece   \n",
       "...       ...                                                ...   \n",
       "100014      1                                     dont buy this.   \n",
       "100015      1                             Kiddie-Core to the max   \n",
       "100016      2               *bawls bc she can't find her AoD CD*   \n",
       "100017      2                                           AWESOME!   \n",
       "100018      2                       Even better than Black Sails   \n",
       "\n",
       "                                                     text  \n",
       "0       I'm reading a lot of reviews saying that this ...  \n",
       "1       This soundtrack is my favorite music of all ti...  \n",
       "2       I truly like this soundtrack and I enjoy video...  \n",
       "3       If you've played the game, you know how divine...  \n",
       "4       I am quite sure any of you actually taking the...  \n",
       "...                                                   ...  \n",
       "100014  i wish i could give AFI 0 stars. all they make...  \n",
       "100015  (...) AFI comes off like a terrible C-grade mi...  \n",
       "100016  Wonderful, wonderful. *beams* Beautiful album,...  \n",
       "100017  This CD is AWESOME! Some people say this is te...  \n",
       "100018  BSITS marked a transitional phase for AFI, and...  \n",
       "\n",
       "[100016 rows x 3 columns]"
      ]
     },
     "execution_count": 54,
     "metadata": {},
     "output_type": "execute_result"
    }
   ],
   "source": [
    "df_train.dropna()"
   ]
  },
  {
   "cell_type": "code",
   "execution_count": 55,
   "metadata": {
    "colab": {
     "base_uri": "https://localhost:8080/"
    },
    "executionInfo": {
     "elapsed": 431,
     "status": "ok",
     "timestamp": 1686215138070,
     "user": {
      "displayName": "Shabna Binth Nazar",
      "userId": "17143942376566095443"
     },
     "user_tz": -330
    },
    "id": "pd349kDcJwXx",
    "outputId": "24ebbaf4-b869-4bdc-a4da-3d168c1a258c"
   },
   "outputs": [
    {
     "name": "stdout",
     "output_type": "stream",
     "text": [
      "2    51281\n",
      "1    48738\n",
      "Name: label, dtype: int64\n",
      "2    5125\n",
      "1    4876\n",
      "Name: label, dtype: int64\n"
     ]
    }
   ],
   "source": [
    "print(df_train['label'].value_counts())\n",
    "print(df_test['label'].value_counts())"
   ]
  },
  {
   "cell_type": "code",
   "execution_count": 56,
   "metadata": {
    "executionInfo": {
     "elapsed": 630,
     "status": "ok",
     "timestamp": 1686215140050,
     "user": {
      "displayName": "Shabna Binth Nazar",
      "userId": "17143942376566095443"
     },
     "user_tz": -330
    },
    "id": "sGevI9ksKKE3"
   },
   "outputs": [],
   "source": [
    "def concat_columns(df, col1, col2, new_col):\n",
    "    df[new_col] = df[col1].apply(str) + ' ' + df[col2].apply(str)\n",
    "    df.drop(col2, axis = 1, inplace = True)\n",
    "    return df\n",
    "df_train = concat_columns(df_train, 'text', 'title', 'text')\n",
    "df_test = concat_columns(df_test, 'text', 'title', 'text')"
   ]
  },
  {
   "cell_type": "code",
   "execution_count": 57,
   "metadata": {
    "executionInfo": {
     "elapsed": 370,
     "status": "ok",
     "timestamp": 1686215141684,
     "user": {
      "displayName": "Shabna Binth Nazar",
      "userId": "17143942376566095443"
     },
     "user_tz": -330
    },
    "id": "7b4Hn5HWKUVa"
   },
   "outputs": [],
   "source": [
    "df_train['label'] = df_train['label'].map({1:0, 2:1})\n",
    "df_test['label'] = df_test['label'].map({1:0, 2:1})"
   ]
  },
  {
   "cell_type": "code",
   "execution_count": 58,
   "metadata": {
    "colab": {
     "base_uri": "https://localhost:8080/",
     "height": 206
    },
    "executionInfo": {
     "elapsed": 24,
     "status": "ok",
     "timestamp": 1686215143010,
     "user": {
      "displayName": "Shabna Binth Nazar",
      "userId": "17143942376566095443"
     },
     "user_tz": -330
    },
    "id": "REyquuHxKWHE",
    "outputId": "32be75ac-e840-4f3a-cff2-bd0f1b6e9fe9"
   },
   "outputs": [
    {
     "data": {
      "text/html": [
       "\n",
       "  <div id=\"df-12297298-5ddf-4cca-baae-fd2a79bc5fef\">\n",
       "    <div class=\"colab-df-container\">\n",
       "      <div>\n",
       "<style scoped>\n",
       "    .dataframe tbody tr th:only-of-type {\n",
       "        vertical-align: middle;\n",
       "    }\n",
       "\n",
       "    .dataframe tbody tr th {\n",
       "        vertical-align: top;\n",
       "    }\n",
       "\n",
       "    .dataframe thead th {\n",
       "        text-align: right;\n",
       "    }\n",
       "</style>\n",
       "<table border=\"1\" class=\"dataframe\">\n",
       "  <thead>\n",
       "    <tr style=\"text-align: right;\">\n",
       "      <th></th>\n",
       "      <th>label</th>\n",
       "      <th>text</th>\n",
       "    </tr>\n",
       "  </thead>\n",
       "  <tbody>\n",
       "    <tr>\n",
       "      <th>0</th>\n",
       "      <td>1</td>\n",
       "      <td>I'm reading a lot of reviews saying that this ...</td>\n",
       "    </tr>\n",
       "    <tr>\n",
       "      <th>1</th>\n",
       "      <td>1</td>\n",
       "      <td>This soundtrack is my favorite music of all ti...</td>\n",
       "    </tr>\n",
       "    <tr>\n",
       "      <th>2</th>\n",
       "      <td>1</td>\n",
       "      <td>I truly like this soundtrack and I enjoy video...</td>\n",
       "    </tr>\n",
       "    <tr>\n",
       "      <th>3</th>\n",
       "      <td>1</td>\n",
       "      <td>If you've played the game, you know how divine...</td>\n",
       "    </tr>\n",
       "    <tr>\n",
       "      <th>4</th>\n",
       "      <td>1</td>\n",
       "      <td>I am quite sure any of you actually taking the...</td>\n",
       "    </tr>\n",
       "  </tbody>\n",
       "</table>\n",
       "</div>\n",
       "      <button class=\"colab-df-convert\" onclick=\"convertToInteractive('df-12297298-5ddf-4cca-baae-fd2a79bc5fef')\"\n",
       "              title=\"Convert this dataframe to an interactive table.\"\n",
       "              style=\"display:none;\">\n",
       "        \n",
       "  <svg xmlns=\"http://www.w3.org/2000/svg\" height=\"24px\"viewBox=\"0 0 24 24\"\n",
       "       width=\"24px\">\n",
       "    <path d=\"M0 0h24v24H0V0z\" fill=\"none\"/>\n",
       "    <path d=\"M18.56 5.44l.94 2.06.94-2.06 2.06-.94-2.06-.94-.94-2.06-.94 2.06-2.06.94zm-11 1L8.5 8.5l.94-2.06 2.06-.94-2.06-.94L8.5 2.5l-.94 2.06-2.06.94zm10 10l.94 2.06.94-2.06 2.06-.94-2.06-.94-.94-2.06-.94 2.06-2.06.94z\"/><path d=\"M17.41 7.96l-1.37-1.37c-.4-.4-.92-.59-1.43-.59-.52 0-1.04.2-1.43.59L10.3 9.45l-7.72 7.72c-.78.78-.78 2.05 0 2.83L4 21.41c.39.39.9.59 1.41.59.51 0 1.02-.2 1.41-.59l7.78-7.78 2.81-2.81c.8-.78.8-2.07 0-2.86zM5.41 20L4 18.59l7.72-7.72 1.47 1.35L5.41 20z\"/>\n",
       "  </svg>\n",
       "      </button>\n",
       "      \n",
       "  <style>\n",
       "    .colab-df-container {\n",
       "      display:flex;\n",
       "      flex-wrap:wrap;\n",
       "      gap: 12px;\n",
       "    }\n",
       "\n",
       "    .colab-df-convert {\n",
       "      background-color: #E8F0FE;\n",
       "      border: none;\n",
       "      border-radius: 50%;\n",
       "      cursor: pointer;\n",
       "      display: none;\n",
       "      fill: #1967D2;\n",
       "      height: 32px;\n",
       "      padding: 0 0 0 0;\n",
       "      width: 32px;\n",
       "    }\n",
       "\n",
       "    .colab-df-convert:hover {\n",
       "      background-color: #E2EBFA;\n",
       "      box-shadow: 0px 1px 2px rgba(60, 64, 67, 0.3), 0px 1px 3px 1px rgba(60, 64, 67, 0.15);\n",
       "      fill: #174EA6;\n",
       "    }\n",
       "\n",
       "    [theme=dark] .colab-df-convert {\n",
       "      background-color: #3B4455;\n",
       "      fill: #D2E3FC;\n",
       "    }\n",
       "\n",
       "    [theme=dark] .colab-df-convert:hover {\n",
       "      background-color: #434B5C;\n",
       "      box-shadow: 0px 1px 3px 1px rgba(0, 0, 0, 0.15);\n",
       "      filter: drop-shadow(0px 1px 2px rgba(0, 0, 0, 0.3));\n",
       "      fill: #FFFFFF;\n",
       "    }\n",
       "  </style>\n",
       "\n",
       "      <script>\n",
       "        const buttonEl =\n",
       "          document.querySelector('#df-12297298-5ddf-4cca-baae-fd2a79bc5fef button.colab-df-convert');\n",
       "        buttonEl.style.display =\n",
       "          google.colab.kernel.accessAllowed ? 'block' : 'none';\n",
       "\n",
       "        async function convertToInteractive(key) {\n",
       "          const element = document.querySelector('#df-12297298-5ddf-4cca-baae-fd2a79bc5fef');\n",
       "          const dataTable =\n",
       "            await google.colab.kernel.invokeFunction('convertToInteractive',\n",
       "                                                     [key], {});\n",
       "          if (!dataTable) return;\n",
       "\n",
       "          const docLinkHtml = 'Like what you see? Visit the ' +\n",
       "            '<a target=\"_blank\" href=https://colab.research.google.com/notebooks/data_table.ipynb>data table notebook</a>'\n",
       "            + ' to learn more about interactive tables.';\n",
       "          element.innerHTML = '';\n",
       "          dataTable['output_type'] = 'display_data';\n",
       "          await google.colab.output.renderOutput(dataTable, element);\n",
       "          const docLink = document.createElement('div');\n",
       "          docLink.innerHTML = docLinkHtml;\n",
       "          element.appendChild(docLink);\n",
       "        }\n",
       "      </script>\n",
       "    </div>\n",
       "  </div>\n",
       "  "
      ],
      "text/plain": [
       "   label                                               text\n",
       "0      1  I'm reading a lot of reviews saying that this ...\n",
       "1      1  This soundtrack is my favorite music of all ti...\n",
       "2      1  I truly like this soundtrack and I enjoy video...\n",
       "3      1  If you've played the game, you know how divine...\n",
       "4      1  I am quite sure any of you actually taking the..."
      ]
     },
     "execution_count": 58,
     "metadata": {},
     "output_type": "execute_result"
    }
   ],
   "source": [
    "df_train.head()"
   ]
  },
  {
   "cell_type": "code",
   "execution_count": 59,
   "metadata": {
    "executionInfo": {
     "elapsed": 4504,
     "status": "ok",
     "timestamp": 1686215149190,
     "user": {
      "displayName": "Shabna Binth Nazar",
      "userId": "17143942376566095443"
     },
     "user_tz": -330
    },
    "id": "G5iNTrMIKZXF"
   },
   "outputs": [],
   "source": [
    "#Function to remove unwanted characters\n",
    "def clean_text(text):\n",
    "    # Remove special characters and numbers\n",
    "    text = re.sub(r'[^A-Za-zÀ-ú ]+', '', text)\n",
    "    # Analyzing the most used words below, i chose to exclude these because there are too many and are unnecessary\n",
    "    text = re.sub('movi', '', text)\n",
    "    # Convert to lower case\n",
    "    text = text.lower()\n",
    "    # remove scores\n",
    "    text = text.translate(str.maketrans('', '', string.punctuation))\n",
    "    # Remove extra whitespace\n",
    "    text = re.sub(r'\\s+', ' ', text).strip()\n",
    "    return text\n",
    "\n",
    "# Applying the function\n",
    "df_train['text'] = df_train['text'].apply(clean_text)\n",
    "df_test['text'] = df_test['text'].apply(clean_text)"
   ]
  },
  {
   "cell_type": "code",
   "execution_count": 60,
   "metadata": {
    "colab": {
     "base_uri": "https://localhost:8080/"
    },
    "executionInfo": {
     "elapsed": 601,
     "status": "ok",
     "timestamp": 1686215151438,
     "user": {
      "displayName": "Shabna Binth Nazar",
      "userId": "17143942376566095443"
     },
     "user_tz": -330
    },
    "id": "h-ngNMpkKgqV",
    "outputId": "c2c16ed3-65c4-4f43-bd0b-d2777bcc5e32"
   },
   "outputs": [
    {
     "name": "stderr",
     "output_type": "stream",
     "text": [
      "[nltk_data] Downloading package stopwords to /root/nltk_data...\n",
      "[nltk_data]   Package stopwords is already up-to-date!\n",
      "[nltk_data] Downloading package punkt to /root/nltk_data...\n",
      "[nltk_data]   Package punkt is already up-to-date!\n"
     ]
    },
    {
     "data": {
      "text/plain": [
       "True"
      ]
     },
     "execution_count": 60,
     "metadata": {},
     "output_type": "execute_result"
    }
   ],
   "source": [
    "import nltk\n",
    "nltk.download('stopwords')\n",
    "nltk.download('punkt')"
   ]
  },
  {
   "cell_type": "code",
   "execution_count": 61,
   "metadata": {
    "executionInfo": {
     "elapsed": 46795,
     "status": "ok",
     "timestamp": 1686215199240,
     "user": {
      "displayName": "Shabna Binth Nazar",
      "userId": "17143942376566095443"
     },
     "user_tz": -330
    },
    "id": "8iPtk93oKdd2"
   },
   "outputs": [],
   "source": [
    "def remove_stopwords(texto):\n",
    "    stop_words = set(stopwords.words('english'))\n",
    "    tokens = nltk.word_tokenize(texto.lower())\n",
    "    return \" \".join([token for token in tokens if token not in stop_words])\n",
    "\n",
    "# Applying the function\n",
    "df_train['text'] = df_train['text'].apply(remove_stopwords)\n",
    "df_test['text'] = df_test['text'].apply(remove_stopwords)"
   ]
  },
  {
   "cell_type": "code",
   "execution_count": 62,
   "metadata": {
    "executionInfo": {
     "elapsed": 55768,
     "status": "ok",
     "timestamp": 1686215268625,
     "user": {
      "displayName": "Shabna Binth Nazar",
      "userId": "17143942376566095443"
     },
     "user_tz": -330
    },
    "id": "5NWkIA97KqFE"
   },
   "outputs": [],
   "source": [
    "def normalize_text(text):\n",
    "    stemmer = SnowballStemmer(\"english\")\n",
    "    normalized_text = []\n",
    "    for word in text.split():\n",
    "        stemmed_word = stemmer.stem(word)\n",
    "        normalized_text.append(stemmed_word)\n",
    "    return ' '.join(normalized_text)\n",
    "    \n",
    "# Applying the function\n",
    "df_train['text'] = df_train['text'].apply(normalize_text)\n",
    "df_test['text'] = df_test['text'].apply(normalize_text)"
   ]
  },
  {
   "cell_type": "code",
   "execution_count": 63,
   "metadata": {
    "colab": {
     "base_uri": "https://localhost:8080/"
    },
    "executionInfo": {
     "elapsed": 47,
     "status": "ok",
     "timestamp": 1686215268626,
     "user": {
      "displayName": "Shabna Binth Nazar",
      "userId": "17143942376566095443"
     },
     "user_tz": -330
    },
    "id": "lLqEoRMdT2dx",
    "outputId": "5d6d1a90-b4d2-47c9-c783-0865401970b3"
   },
   "outputs": [
    {
     "data": {
      "text/plain": [
       "0        despit fact play small portion game music hear...\n",
       "1        bought charger jul work ok design nice conveni...\n",
       "2        check maha energi websit powerex mhcf charger ...\n",
       "3        review quit bit combo player hesit due unfavor...\n",
       "4        also began incorrect disc problem ive read vcr...\n",
       "                               ...                        \n",
       "9996     daughter love six month old weve three week ti...\n",
       "9997     purchas item month old babi love entertain kep...\n",
       "9998     daughter start enjoy around month though littl...\n",
       "9999     first time mom love babi einstein line great p...\n",
       "10000    bought exersauc littl guy bare abl sit upright...\n",
       "Name: text, Length: 10001, dtype: object"
      ]
     },
     "execution_count": 63,
     "metadata": {},
     "output_type": "execute_result"
    }
   ],
   "source": [
    "df_test['text']"
   ]
  },
  {
   "cell_type": "code",
   "execution_count": 64,
   "metadata": {
    "colab": {
     "base_uri": "https://localhost:8080/",
     "height": 586
    },
    "executionInfo": {
     "elapsed": 1813,
     "status": "ok",
     "timestamp": 1686215316352,
     "user": {
      "displayName": "Shabna Binth Nazar",
      "userId": "17143942376566095443"
     },
     "user_tz": -330
    },
    "id": "_3XjT7yZKtBY",
    "outputId": "770a8633-e133-4340-d25a-067bdd75ddc0"
   },
   "outputs": [
    {
     "data": {
      "text/plain": [
       "Text(0, 0.5, 'Frequency')"
      ]
     },
     "execution_count": 64,
     "metadata": {},
     "output_type": "execute_result"
    },
    {
     "data": {
      "image/png": "[encoded data removed]",
      "text/plain": [
       "<Figure size 1000x600 with 1 Axes>"
      ]
     },
     "metadata": {},
     "output_type": "display_data"
    }
   ],
   "source": [
    "words = []\n",
    "for text in df_train['text']:\n",
    "    words.extend(text.split())\n",
    "word_count = collections.Counter(words)\n",
    "top_words = dict(word_count.most_common(10))\n",
    "\n",
    "# Figure Size\n",
    "plt.figure(figsize = (10, 6))\n",
    "\n",
    "# Create the Barplot\n",
    "plt.bar(range(len(top_words)), list(top_words.values()), align = 'center')\n",
    "\n",
    "# Creating a y axis with words\n",
    "plt.xticks(range(len(top_words)), list(top_words.keys()))\n",
    "\n",
    "# Grid Opacity\n",
    "plt.grid(alpha = 0.5)\n",
    "\n",
    "# Title and labels\n",
    "plt.title('Top 10 most used words', fontsize = 18)\n",
    "plt.xlabel('Words')\n",
    "plt.ylabel('Frequency')"
   ]
  },
  {
   "cell_type": "code",
   "execution_count": 65,
   "metadata": {
    "colab": {
     "base_uri": "https://localhost:8080/",
     "height": 586
    },
    "executionInfo": {
     "elapsed": 1412,
     "status": "ok",
     "timestamp": 1686215320633,
     "user": {
      "displayName": "Shabna Binth Nazar",
      "userId": "17143942376566095443"
     },
     "user_tz": -330
    },
    "id": "EHFHA25SK3RQ",
    "outputId": "2598e41f-18e0-4f9c-ae8f-f1d71d8193df"
   },
   "outputs": [
    {
     "data": {
      "text/plain": [
       "Text(0, 0.5, 'Frequency')"
      ]
     },
     "execution_count": 65,
     "metadata": {},
     "output_type": "execute_result"
    },
    {
     "data": {
      "image/png": "[encoded data removed]",
      "text/plain": [
       "<Figure size 1000x600 with 1 Axes>"
      ]
     },
     "metadata": {},
     "output_type": "display_data"
    }
   ],
   "source": [
    "words = []\n",
    "for text in df_test['text']:\n",
    "    words.extend(text.split())\n",
    "word_count = collections.Counter(words)\n",
    "top_words = dict(word_count.most_common(10))\n",
    "\n",
    "# Figure Size\n",
    "plt.figure(figsize = (10, 6))\n",
    "\n",
    "# Create the Barplot\n",
    "plt.bar(range(len(top_words)), list(top_words.values()), align = 'center')\n",
    "\n",
    "# Creating a y axis with words\n",
    "plt.xticks(range(len(top_words)), list(top_words.keys()))\n",
    "\n",
    "# Grid Opacity\n",
    "plt.grid(alpha = 0.5)\n",
    "# Title and labels\n",
    "plt.title('Top 10 most used words', fontsize = 18)\n",
    "plt.xlabel('Words')\n",
    "plt.ylabel('Frequency')"
   ]
  },
  {
   "cell_type": "code",
   "execution_count": 88,
   "metadata": {
    "colab": {
     "base_uri": "https://localhost:8080/",
     "height": 586
    },
    "executionInfo": {
     "elapsed": 1994,
     "status": "ok",
     "timestamp": 1686223489313,
     "user": {
      "displayName": "Shabna Binth Nazar",
      "userId": "17143942376566095443"
     },
     "user_tz": -330
    },
    "id": "gp1Y9OkFPf-7",
    "outputId": "dc379c2b-23f0-4490-a781-7d97f78e8415"
   },
   "outputs": [
    {
     "data": {
      "text/plain": [
       "Text(0, 0.5, 'Frequency')"
      ]
     },
     "execution_count": 88,
     "metadata": {},
     "output_type": "execute_result"
    },
    {
     "data": {
      "image/png": "[encoded data removed]",
      "text/plain": [
       "<Figure size 1000x600 with 1 Axes>"
      ]
     },
     "metadata": {},
     "output_type": "display_data"
    }
   ],
   "source": [
    "words = []\n",
    "for text in df_train['text']:\n",
    "    words.extend(text.split())\n",
    "word_count = collections.Counter(words)\n",
    "top_words = dict(word_count.most_common(20))\n",
    "\n",
    "# Figure Size\n",
    "plt.figure(figsize = (10, 6))\n",
    "\n",
    "# Create the Barplot\n",
    "plt.bar(range(len(top_words)), list(top_words.values()), align = 'center')\n",
    "\n",
    "# Creating a y axis with words\n",
    "plt.xticks(range(len(top_words)), list(top_words.keys()))\n",
    "\n",
    "# Grid Opacity\n",
    "plt.grid(alpha = 0.5)\n",
    "# Title and labels\n",
    "plt.title('Top 20 most used words', fontsize = 18)\n",
    "plt.xlabel('Words')\n",
    "plt.ylabel('Frequency')"
   ]
  },
  {
   "cell_type": "code",
   "execution_count": 67,
   "metadata": {
    "colab": {
     "base_uri": "https://localhost:8080/",
     "height": 586
    },
    "executionInfo": {
     "elapsed": 778,
     "status": "ok",
     "timestamp": 1686215376482,
     "user": {
      "displayName": "Shabna Binth Nazar",
      "userId": "17143942376566095443"
     },
     "user_tz": -330
    },
    "id": "Qemqwck4PSXz",
    "outputId": "c7c5c328-7918-4f57-cc67-2532a99dfeb2"
   },
   "outputs": [
    {
     "data": {
      "text/plain": [
       "Text(0, 0.5, 'Frequency')"
      ]
     },
     "execution_count": 67,
     "metadata": {},
     "output_type": "execute_result"
    },
    {
     "data": {
      "image/png": "[encoded data removed]",
      "text/plain": [
       "<Figure size 1000x600 with 1 Axes>"
      ]
     },
     "metadata": {},
     "output_type": "display_data"
    }
   ],
   "source": [
    "words = []\n",
    "for text in df_test['text']:\n",
    "    words.extend(text.split())\n",
    "word_count = collections.Counter(words)\n",
    "top_words = dict(word_count.most_common(20))\n",
    "\n",
    "# Figure Size\n",
    "plt.figure(figsize = (10, 6))\n",
    "\n",
    "# Create the Barplot\n",
    "plt.bar(range(len(top_words)), list(top_words.values()), align = 'center')\n",
    "\n",
    "# Creating a y axis with words\n",
    "plt.xticks(range(len(top_words)), list(top_words.keys()))\n",
    "\n",
    "# Grid Opacity\n",
    "plt.grid(alpha = 0.5)\n",
    "# Title and labels\n",
    "plt.title('Top 20 most used words', fontsize = 18)\n",
    "plt.xlabel('Words')\n",
    "plt.ylabel('Frequency')"
   ]
  },
  {
   "cell_type": "code",
   "execution_count": 68,
   "metadata": {
    "colab": {
     "base_uri": "https://localhost:8080/",
     "height": 472
    },
    "executionInfo": {
     "elapsed": 16,
     "status": "ok",
     "timestamp": 1686215378200,
     "user": {
      "displayName": "Shabna Binth Nazar",
      "userId": "17143942376566095443"
     },
     "user_tz": -330
    },
    "id": "LRGVdySHITbb",
    "outputId": "2020fa84-e262-46f4-b69f-9caf5875c819"
   },
   "outputs": [
    {
     "data": {
      "image/png": "[encoded data removed]",
      "text/plain": [
       "<Figure size 640x480 with 1 Axes>"
      ]
     },
     "metadata": {},
     "output_type": "display_data"
    }
   ],
   "source": [
    "sentiment_counts = df_train['label'].value_counts()\n",
    "# Plot the sentiment distribution\n",
    "plt.bar(sentiment_counts.index, sentiment_counts.values)\n",
    "plt.xlabel('Sentiment')\n",
    "plt.ylabel('Count')\n",
    "plt.title('Sentiment Distribution')\n",
    "# Add labels to the bars\n",
    "plt.xticks(sentiment_counts.index, ['Positive', 'Negative'])\n",
    "plt.show()"
   ]
  },
  {
   "cell_type": "markdown",
   "metadata": {
    "id": "PRJ9qYm_IQnJ"
   },
   "source": [
    "FNN"
   ]
  },
  {
   "cell_type": "code",
   "execution_count": null,
   "metadata": {
    "id": "5yVSKLXaLBGz"
   },
   "outputs": [],
   "source": [
    "# Maximum number of words to be considered in the vocabulary\n",
    "max_words = 10000 \n",
    "# Maximum number of tokens in a sequence\n",
    "max_len = 200 \n",
    "# Tokenizer\n",
    "tokenizer = Tokenizer(num_words = max_words) \n",
    "# Snap tokenizer to text data\n",
    "tokenizer.fit_on_texts(df_train['text']) \n",
    "# Converts texts into strings of numbers\n",
    "sequences_train = tokenizer.texts_to_sequences(df_train['text']) \n",
    "sequences_val = tokenizer.texts_to_sequences(df_test['text']) \n",
    "# Mapping words to indexes\n",
    "word_index = tokenizer.word_index "
   ]
  },
  {
   "cell_type": "code",
   "execution_count": null,
   "metadata": {
    "id": "K8uQ6zTwLDfl"
   },
   "outputs": [],
   "source": [
    "# Sequence padding\n",
    "data_train = pad_sequences(sequences_train, maxlen = max_len)\n",
    "data_val = pad_sequences(sequences_val, maxlen = max_len)"
   ]
  },
  {
   "cell_type": "code",
   "execution_count": null,
   "metadata": {
    "colab": {
     "base_uri": "https://localhost:8080/"
    },
    "id": "bF5W6wikLFY0",
    "outputId": "7acaf277-9792-4e5f-9c5a-0c636a01f9ad"
   },
   "outputs": [
    {
     "name": "stdout",
     "output_type": "stream",
     "text": [
      "Model: \"sequential\"\n",
      "_________________________________________________________________\n",
      " Layer (type)                Output Shape              Param #   \n",
      "=================================================================\n",
      " embedding (Embedding)       (None, 200, 16)           160000    \n",
      "                                                                 \n",
      " global_average_pooling1d (G  (None, 16)               0         \n",
      " lobalAveragePooling1D)                                          \n",
      "                                                                 \n",
      " dense (Dense)               (None, 1)                 17        \n",
      "                                                                 \n",
      "=================================================================\n",
      "Total params: 160,017\n",
      "Trainable params: 160,017\n",
      "Non-trainable params: 0\n",
      "_________________________________________________________________\n"
     ]
    }
   ],
   "source": [
    "# Create the model\n",
    "model = tf.keras.Sequential()\n",
    "model.add(Embedding(max_words, 16, input_length = max_len))\n",
    "model.add(GlobalAveragePooling1D())\n",
    "model.add(Dense(1, activation = 'sigmoid'))\n",
    "\n",
    "# Compile the model\n",
    "model.compile(loss = 'binary_crossentropy', optimizer = 'adam', metrics = ['accuracy'])\n",
    "\n",
    "# Checking summary\n",
    "model.summary()"
   ]
  },
  {
   "cell_type": "code",
   "execution_count": null,
   "metadata": {
    "colab": {
     "base_uri": "https://localhost:8080/"
    },
    "id": "CguuweDnLGh2",
    "outputId": "79461397-4a7d-41b6-ccb4-0ed782e31b6e"
   },
   "outputs": [
    {
     "name": "stdout",
     "output_type": "stream",
     "text": [
      "Epoch 1/15\n",
      "1563/1563 [==============================] - 72s 42ms/step - loss: 0.6033 - accuracy: 0.7319 - val_loss: 0.4753 - val_accuracy: 0.8321\n",
      "Epoch 2/15\n",
      "1563/1563 [==============================] - 15s 10ms/step - loss: 0.4007 - accuracy: 0.8592 - val_loss: 0.3565 - val_accuracy: 0.8660\n",
      "Epoch 3/15\n",
      "1563/1563 [==============================] - 10s 7ms/step - loss: 0.3270 - accuracy: 0.8749 - val_loss: 0.3205 - val_accuracy: 0.8724\n",
      "Epoch 4/15\n",
      "1563/1563 [==============================] - 10s 6ms/step - loss: 0.2983 - accuracy: 0.8828 - val_loss: 0.3072 - val_accuracy: 0.8757\n",
      "Epoch 5/15\n",
      "1563/1563 [==============================] - 9s 6ms/step - loss: 0.2831 - accuracy: 0.8877 - val_loss: 0.3016 - val_accuracy: 0.8767\n",
      "Epoch 6/15\n",
      "1563/1563 [==============================] - 8s 5ms/step - loss: 0.2735 - accuracy: 0.8918 - val_loss: 0.3010 - val_accuracy: 0.8784\n",
      "Epoch 7/15\n",
      "1563/1563 [==============================] - 7s 4ms/step - loss: 0.2665 - accuracy: 0.8949 - val_loss: 0.2997 - val_accuracy: 0.8785\n",
      "Epoch 8/15\n",
      "1563/1563 [==============================] - 8s 5ms/step - loss: 0.2608 - accuracy: 0.8976 - val_loss: 0.2976 - val_accuracy: 0.8788\n",
      "Epoch 9/15\n",
      "1563/1563 [==============================] - 7s 5ms/step - loss: 0.2567 - accuracy: 0.8986 - val_loss: 0.2984 - val_accuracy: 0.8792\n",
      "Epoch 10/15\n",
      "1563/1563 [==============================] - 8s 5ms/step - loss: 0.2526 - accuracy: 0.9007 - val_loss: 0.2984 - val_accuracy: 0.8803\n",
      "Epoch 11/15\n",
      "1563/1563 [==============================] - 8s 5ms/step - loss: 0.2495 - accuracy: 0.9022 - val_loss: 0.3000 - val_accuracy: 0.8814\n",
      "Epoch 12/15\n",
      "1563/1563 [==============================] - 6s 4ms/step - loss: 0.2466 - accuracy: 0.9025 - val_loss: 0.3012 - val_accuracy: 0.8803\n",
      "Epoch 13/15\n",
      "1563/1563 [==============================] - 7s 5ms/step - loss: 0.2440 - accuracy: 0.9040 - val_loss: 0.3018 - val_accuracy: 0.8821\n",
      "Epoch 14/15\n",
      "1563/1563 [==============================] - 7s 4ms/step - loss: 0.2417 - accuracy: 0.9050 - val_loss: 0.3055 - val_accuracy: 0.8809\n",
      "Epoch 15/15\n",
      "1563/1563 [==============================] - 8s 5ms/step - loss: 0.2398 - accuracy: 0.9054 - val_loss: 0.3049 - val_accuracy: 0.8822\n"
     ]
    }
   ],
   "source": [
    "# Fit model\n",
    "history = model.fit(data_train, df_train['label'], epochs = 15, batch_size = 64, validation_data = (data_val, df_test['label']))"
   ]
  },
  {
   "cell_type": "code",
   "execution_count": null,
   "metadata": {
    "colab": {
     "base_uri": "https://localhost:8080/"
    },
    "id": "5cZB0TUHLMlC",
    "outputId": "fd0dc8bb-4c96-4688-ff39-e8df45b0ae69"
   },
   "outputs": [
    {
     "name": "stdout",
     "output_type": "stream",
     "text": [
      "Accuracy: 88.221180\n",
      "loss 0.3048619031906128\n"
     ]
    }
   ],
   "source": [
    "loss, accuracy = model.evaluate(data_val, df_test['label'], verbose = 0)\n",
    "print('Accuracy: %f' % (accuracy*100))\n",
    "print(\"loss\",loss)"
   ]
  },
  {
   "cell_type": "code",
   "execution_count": null,
   "metadata": {
    "colab": {
     "base_uri": "https://localhost:8080/",
     "height": 472
    },
    "id": "sPeI5E2XLUi7",
    "outputId": "c1f61892-5f30-4345-d243-88b1a8f9b882"
   },
   "outputs": [
    {
     "data": {
      "image/png": "[encoded data removed]",
      "text/plain": [
       "<Figure size 640x480 with 1 Axes>"
      ]
     },
     "metadata": {},
     "output_type": "display_data"
    }
   ],
   "source": [
    "# Loss graph\n",
    "plt.style.use('dark_background')\n",
    "plt.plot(history.history['loss'])\n",
    "plt.plot(history.history['val_loss'])\n",
    "\n",
    "plt.title('Model loss')\n",
    "plt.xlabel('Epoch')\n",
    "plt.legend(['Training', 'Validation'], loc = 'upper right')\n",
    "plt.show()"
   ]
  },
  {
   "cell_type": "code",
   "execution_count": null,
   "metadata": {
    "colab": {
     "base_uri": "https://localhost:8080/",
     "height": 472
    },
    "id": "NH7ybfJyLZgi",
    "outputId": "e6be7ca7-6c7d-4dd9-fb0f-8cd8835696e5"
   },
   "outputs": [
    {
     "data": {
      "image/png": "[encoded data removed]",
      "text/plain": [
       "<Figure size 640x480 with 1 Axes>"
      ]
     },
     "metadata": {},
     "output_type": "display_data"
    }
   ],
   "source": [
    "# Accuracy graph\n",
    "plt.style.use('dark_background')\n",
    "plt.plot(history.history['accuracy'])\n",
    "plt.plot(history.history['val_accuracy'])\n",
    "\n",
    "plt.title('Model Accuracy')\n",
    "plt.ylabel('Accuracy')\n",
    "plt.xlabel('Epoch')\n",
    "plt.legend(['Training', 'Validation'], loc = 'lower right')\n",
    "plt.show()"
   ]
  },
  {
   "cell_type": "markdown",
   "metadata": {
    "id": "kxjON4ExO2b0"
   },
   "source": [
    "LSTM"
   ]
  },
  {
   "cell_type": "code",
   "execution_count": null,
   "metadata": {
    "id": "Wnt4ErWgSKP-"
   },
   "outputs": [],
   "source": [
    "from tensorflow.keras.utils import to_categorical"
   ]
  },
  {
   "cell_type": "code",
   "execution_count": null,
   "metadata": {
    "id": "1DEK2jfgPFDM"
   },
   "outputs": [],
   "source": [
    "import numpy as np\n",
    "model = tf.keras.models.Sequential([\n",
    "    tf.keras.layers.Embedding(10_000 , 16),\n",
    "    tf.keras.layers.Bidirectional(tf.keras.layers.LSTM(16 , return_sequences=  True)) ,\n",
    "    tf.keras.layers.BatchNormalization(),\n",
    "    tf.keras.layers.Bidirectional(tf.keras.layers.LSTM(32)),\n",
    "    tf.keras.layers.Dropout(0.2),\n",
    "    tf.keras.layers.Dense(512 , activation = 'relu'),\n",
    "    tf.keras.layers.Dense(1 , activation = 'sigmoid')\n",
    "])"
   ]
  },
  {
   "cell_type": "code",
   "execution_count": null,
   "metadata": {
    "colab": {
     "base_uri": "https://localhost:8080/"
    },
    "id": "8fNjx0DeP9oL",
    "outputId": "ec7396b6-5f3e-4cc8-9520-429c3738448d"
   },
   "outputs": [
    {
     "data": {
      "text/plain": [
       "label  text                                                                                                                                                                                                                                                                                                                                                                                                                                                                                                                                             \n",
       "1      around ten first saw space love even though time thought level technolog attribut human littl far fetch even young mind knew go moon substanti form alway thought space space would made littl plausibl begin howev said fun seri doesnt love eagl moon base design colorstrip armband admit stori especi nd second push even ten year old limit imagin forget episod crewmemb regress back forth cavemen yet everi time metamorph jump cloth chang one moment cavemen wear fur next modern human wear space suit silli yes fun campi lovabl seri    2\n",
       "0      cd anoth artist play cd player doesnt read cdrs play boom box work song dont appeal children youth group song lyric well written tune catchi kid seem like colin buchannan aussi prais collect much better amazon doesnt sell cbdcom great effort though coupl cd wont play player cdr                                                                                                                                                                                                                                                               2\n",
       "1      work authorit detail need succinct point excel refer investig use chart illustr give detail need illustr inform refer look forward volum great anticip delight read                                                                                                                                                                                                                                                                                                                                                                                  2\n",
       "0      love doglov dog poem well hst wasnt great everi poem doesnt go togeth like regular chapterstori poem rhyme would go togeth like stori id read way would never read poem want stori dog definit love dog                                                                                                                                                                                                                                                                                                                                              2\n",
       "       love doglov dog poem poem would think dog titl thought dog got dog hard follow written poetri write bore also hundr page realli easi read conclus dont like poem dont check like poem go ahead love dog                                                                                                                                                                                                                                                                                                                                              2\n",
       "                                                                                                                                                                                                                                                                                                                                                                                                                                                                                                                                                           ..\n",
       "       purchas dvd love movi las vega set excit final see stori visionari bugsi dream upscal casino nevada get numer histor inaccuraci expect histori screw want accur portray bugsi beatti gave much woodi allen vibe tast poor portray bugsi                                                                                                                                                                                                                                                                                                              1\n",
       "       purchas dvd look forward guot erot poetic fill romantic littl interact mehmet francescotwo male star brief scene your go purchas movi poetic romantic wasnt movi high qualiti far camera techniqu sceneri excel actor believ well cast lost steam                                                                                                                                                                                                                                                                                                    1\n",
       "       purchas dvd hope complet kettlebel workout video differ segment workout would feel work kettlebel exercis short repetit break exercis way long instructor state realli feel cardio realli bore feel sweat cardio save time skip kettlebel dvd worth time                                                                                                                                                                                                                                                                                             1\n",
       "       purchas dvd high expect see band perfom moon safari live footag live perform near youd expect titl correct documentari band play music littl documentari style would fine entir dvd full peopl talk great band well get old like other would much prefer see band perform live less filler want see go creat vocal type instrument usedth music video dvd reason keep prefer remix kelli watch star dvd bit differ version moon safari bore snore ignor time annoy                                                                                   1\n",
       "1      âthe propheci tell make sell soul hell album power fast better seven church awesom album track list favorit heret tribul phantasm beyond gate dog fight recomend buy album ânecronomicon mine star death metal perfect                                                                                                                                                                                                                                                                                                                               1\n",
       "Length: 99991, dtype: int64"
      ]
     },
     "execution_count": 36,
     "metadata": {},
     "output_type": "execute_result"
    }
   ],
   "source": [
    "df_train.value_counts()"
   ]
  },
  {
   "cell_type": "code",
   "execution_count": null,
   "metadata": {
    "colab": {
     "base_uri": "https://localhost:8080/"
    },
    "id": "QV3Yc9jaP-pB",
    "outputId": "05b616ff-a1e4-487a-dc8d-0ca65a3976e3"
   },
   "outputs": [
    {
     "data": {
      "text/plain": [
       "<bound method DataFrame.value_counts of        label                                               text\n",
       "0          1  despit fact play small portion game music hear...\n",
       "1          0  bought charger jul work ok design nice conveni...\n",
       "2          1  check maha energi websit powerex mhcf charger ...\n",
       "3          1  review quit bit combo player hesit due unfavor...\n",
       "4          0  also began incorrect disc problem ive read vcr...\n",
       "...      ...                                                ...\n",
       "9996       1  daughter love six month old weve three week ti...\n",
       "9997       0  purchas item month old babi love entertain kep...\n",
       "9998       1  daughter start enjoy around month though littl...\n",
       "9999       0  first time mom love babi einstein line great p...\n",
       "10000      1  bought exersauc littl guy bare abl sit upright...\n",
       "\n",
       "[10001 rows x 2 columns]>"
      ]
     },
     "execution_count": 37,
     "metadata": {},
     "output_type": "execute_result"
    }
   ],
   "source": [
    "df_test.value_counts"
   ]
  },
  {
   "cell_type": "code",
   "execution_count": null,
   "metadata": {
    "colab": {
     "base_uri": "https://localhost:8080/"
    },
    "id": "iVvZ2jCPQ5II",
    "outputId": "0263420c-ac20-49cd-d8e9-0e5d62bac77a"
   },
   "outputs": [
    {
     "data": {
      "text/plain": [
       "<bound method NDFrame.head of         label                                               text\n",
       "0           1  im read lot review say best game soundtrack fi...\n",
       "1           1  soundtrack favorit music time hand intens sad ...\n",
       "2           1  truli like soundtrack enjoy video game music p...\n",
       "3           1  youv play game know divin music everi singl so...\n",
       "4           1  quit sure actual take time read play game leas...\n",
       "...       ...                                                ...\n",
       "100014      0  wish could give afi star make meaningless goth...\n",
       "100015      0  afi come like terribl cgrade mixtur bad horror...\n",
       "100016      1  wonder wonder beam beauti album love first got...\n",
       "100017      1  cd awesom peopl say terribl compar old stuff b...\n",
       "100018      1  bsit mark transit phase afi album confirm perm...\n",
       "\n",
       "[100019 rows x 2 columns]>"
      ]
     },
     "execution_count": 38,
     "metadata": {},
     "output_type": "execute_result"
    }
   ],
   "source": [
    "df_train.head"
   ]
  },
  {
   "cell_type": "code",
   "execution_count": null,
   "metadata": {
    "id": "C7oSrWquO3ZU"
   },
   "outputs": [],
   "source": [
    "X_train = np.array(df_train['text'] , dtype = 'str')"
   ]
  },
  {
   "cell_type": "code",
   "execution_count": null,
   "metadata": {
    "colab": {
     "base_uri": "https://localhost:8080/"
    },
    "id": "dzG0pieHRJ-K",
    "outputId": "079d30da-e1c8-48fe-8068-e1fbef0a6637"
   },
   "outputs": [
    {
     "data": {
      "text/plain": [
       "array(['im read lot review say best game soundtrack figur id write review disagre bit opinino yasunori mitsuda ultim masterpiec music timeless im listen year beauti simpli refus fadeth price tag pretti stagger must say go buy cd much feel would worth everi penni best soundtrack ever anyth',\n",
       "       'soundtrack favorit music time hand intens sad prisr fate mean youv play game hope distant promis girl stole star import inspir person throughout teen year higher energi track like chrono cross time scar time dreamwatch chronomantiqu indefin remenisc chrono trigger absolut superb wellthi soundtrack amaz music probabl best compos work havent heard xenogear soundtrack cant say sure even youv never play game would worth twice price buy iti wish could give star amaz',\n",
       "       'truli like soundtrack enjoy video game music play game music enjoy truli relax peacefulon disk favorit scar time life death forest illus fortress ancient dragon lost fragment drown valleydisk two draggon galdorb home chronomantiqu prisr fate gale girlfriend like zelbessdisk three best three garden god chronopoli fate jellyfish sea burn orphang dragon prayer tower star dragon god radic dreamer unsteal jeweloveral excel soundtrack brought like video game musicxand cross excel soundtrack'],\n",
       "      dtype='<U816')"
      ]
     },
     "execution_count": 41,
     "metadata": {},
     "output_type": "execute_result"
    }
   ],
   "source": [
    "X_train[:3]"
   ]
  },
  {
   "cell_type": "code",
   "execution_count": null,
   "metadata": {
    "id": "wi0AKfsRRNBm"
   },
   "outputs": [],
   "source": [
    "y_train = np.array(df_train['label'] , dtype = 'int32')"
   ]
  },
  {
   "cell_type": "code",
   "execution_count": null,
   "metadata": {
    "id": "_rmSO0oARRHA"
   },
   "outputs": [],
   "source": [
    "x_test =  np.array(df_test['text'] , dtype = 'str')\n",
    "y_test = np.array(df_test['label'] , dtype = 'int32')"
   ]
  },
  {
   "cell_type": "code",
   "execution_count": null,
   "metadata": {
    "colab": {
     "base_uri": "https://localhost:8080/"
    },
    "id": "HgPmxJsYPaN_",
    "outputId": "6151b78f-bf6e-4b0d-b0b8-f13d6208391d"
   },
   "outputs": [
    {
     "name": "stdout",
     "output_type": "stream",
     "text": [
      "Model: \"sequential_1\"\n",
      "_________________________________________________________________\n",
      " Layer (type)                Output Shape              Param #   \n",
      "=================================================================\n",
      " embedding_1 (Embedding)     (None, None, 16)          160000    \n",
      "                                                                 \n",
      " bidirectional (Bidirectiona  (None, None, 32)         4224      \n",
      " l)                                                              \n",
      "                                                                 \n",
      " batch_normalization (BatchN  (None, None, 32)         128       \n",
      " ormalization)                                                   \n",
      "                                                                 \n",
      " bidirectional_1 (Bidirectio  (None, 64)               16640     \n",
      " nal)                                                            \n",
      "                                                                 \n",
      " dropout (Dropout)           (None, 64)                0         \n",
      "                                                                 \n",
      " dense_1 (Dense)             (None, 512)               33280     \n",
      "                                                                 \n",
      " dense_2 (Dense)             (None, 1)                 513       \n",
      "                                                                 \n",
      "=================================================================\n",
      "Total params: 214,785\n",
      "Trainable params: 214,721\n",
      "Non-trainable params: 64\n",
      "_________________________________________________________________\n"
     ]
    }
   ],
   "source": [
    "model.summary()"
   ]
  },
  {
   "cell_type": "code",
   "execution_count": null,
   "metadata": {
    "id": "7Pey1UTgR6AD"
   },
   "outputs": [],
   "source": [
    "average_len = np.mean([len(item) for item in X_train])"
   ]
  },
  {
   "cell_type": "code",
   "execution_count": null,
   "metadata": {
    "colab": {
     "base_uri": "https://localhost:8080/"
    },
    "id": "ipR0HCqfR8Yw",
    "outputId": "96c25bcf-026e-47c3-ecbb-326207ef4b47"
   },
   "outputs": [
    {
     "data": {
      "text/plain": [
       "241.2176286505564"
      ]
     },
     "execution_count": 50,
     "metadata": {},
     "output_type": "execute_result"
    }
   ],
   "source": [
    "average_len"
   ]
  },
  {
   "cell_type": "code",
   "execution_count": null,
   "metadata": {
    "id": "dm9dNijkR-R4"
   },
   "outputs": [],
   "source": [
    "max_len = int(average_len + 100)"
   ]
  },
  {
   "cell_type": "code",
   "execution_count": null,
   "metadata": {
    "id": "vhT2CwWE1k8z"
   },
   "outputs": [],
   "source": [
    "tokenizer = Tokenizer(num_words = 10_000 , oov_token='') \n",
    "tokenizer.fit_on_texts(X_train)\n",
    "\n",
    "train_seq = tokenizer.texts_to_sequences(X_train) \n",
    "test_seq = tokenizer.texts_to_sequences(x_test)"
   ]
  },
  {
   "cell_type": "code",
   "execution_count": null,
   "metadata": {
    "id": "0yXTjkGVSA8Y"
   },
   "outputs": [],
   "source": [
    "train_pad = pad_sequences(train_seq , maxlen = max_len )\n",
    "test_pad = pad_sequences(test_seq , maxlen = max_len )"
   ]
  },
  {
   "cell_type": "code",
   "execution_count": null,
   "metadata": {
    "id": "ZOy71VfISDQN"
   },
   "outputs": [],
   "source": [
    "train_label = to_categorical(y_train) #this if you want to one hot , but I 'm note going to use this\n",
    "test_label = to_categorical(y_test)"
   ]
  },
  {
   "cell_type": "code",
   "execution_count": null,
   "metadata": {
    "id": "bKiE67QNSQd4"
   },
   "outputs": [],
   "source": [
    "model = tf.keras.models.Sequential([\n",
    "    tf.keras.layers.Embedding(10_000 , 16),\n",
    "    tf.keras.layers.Bidirectional(tf.keras.layers.LSTM(16 , return_sequences=  True)) ,\n",
    "    tf.keras.layers.BatchNormalization(),\n",
    "    tf.keras.layers.Bidirectional(tf.keras.layers.LSTM(32)),\n",
    "    tf.keras.layers.Dropout(0.2),\n",
    "    tf.keras.layers.Dense(512 , activation = 'relu'),\n",
    "    tf.keras.layers.Dense(1 , activation = 'sigmoid')\n",
    "])"
   ]
  },
  {
   "cell_type": "code",
   "execution_count": null,
   "metadata": {
    "colab": {
     "base_uri": "https://localhost:8080/"
    },
    "id": "aAtpCzk8SSbp",
    "outputId": "8ce30cb1-ab19-465a-8aad-ce447ff29c11"
   },
   "outputs": [
    {
     "name": "stdout",
     "output_type": "stream",
     "text": [
      "Model: \"sequential_2\"\n",
      "_________________________________________________________________\n",
      " Layer (type)                Output Shape              Param #   \n",
      "=================================================================\n",
      " embedding_2 (Embedding)     (None, None, 16)          160000    \n",
      "                                                                 \n",
      " bidirectional_2 (Bidirectio  (None, None, 32)         4224      \n",
      " nal)                                                            \n",
      "                                                                 \n",
      " batch_normalization_1 (Batc  (None, None, 32)         128       \n",
      " hNormalization)                                                 \n",
      "                                                                 \n",
      " bidirectional_3 (Bidirectio  (None, 64)               16640     \n",
      " nal)                                                            \n",
      "                                                                 \n",
      " dropout_1 (Dropout)         (None, 64)                0         \n",
      "                                                                 \n",
      " dense_3 (Dense)             (None, 512)               33280     \n",
      "                                                                 \n",
      " dense_4 (Dense)             (None, 1)                 513       \n",
      "                                                                 \n",
      "=================================================================\n",
      "Total params: 214,785\n",
      "Trainable params: 214,721\n",
      "Non-trainable params: 64\n",
      "_________________________________________________________________\n"
     ]
    }
   ],
   "source": [
    "model.summary()"
   ]
  },
  {
   "cell_type": "code",
   "execution_count": null,
   "metadata": {
    "id": "FDDwcUcvSTu0"
   },
   "outputs": [],
   "source": [
    "model.compile(loss = tf.keras.losses.binary_crossentropy , optimizer = tf.keras.optimizers.Adam() , metrics = ['accuracy'])"
   ]
  },
  {
   "cell_type": "code",
   "execution_count": null,
   "metadata": {
    "colab": {
     "base_uri": "https://localhost:8080/"
    },
    "id": "ZCg0GMh2SWCw",
    "outputId": "291cb1ea-b7b5-4596-f46b-428513689277"
   },
   "outputs": [
    {
     "name": "stdout",
     "output_type": "stream",
     "text": [
      "Epoch 1/10\n",
      "2814/2814 [==============================] - 191s 64ms/step - loss: 0.3179 - accuracy: 0.8627 - val_loss: 0.3105 - val_accuracy: 0.8712\n",
      "Epoch 2/10\n",
      "2814/2814 [==============================] - 120s 43ms/step - loss: 0.2398 - accuracy: 0.9029 - val_loss: 0.2857 - val_accuracy: 0.8811\n",
      "Epoch 3/10\n",
      "2814/2814 [==============================] - 111s 39ms/step - loss: 0.1986 - accuracy: 0.9216 - val_loss: 0.3039 - val_accuracy: 0.8732\n",
      "Epoch 4/10\n",
      "2814/2814 [==============================] - 112s 40ms/step - loss: 0.1589 - accuracy: 0.9391 - val_loss: 0.3517 - val_accuracy: 0.8678\n",
      "Epoch 5/10\n",
      "2814/2814 [==============================] - 115s 41ms/step - loss: 0.1252 - accuracy: 0.9533 - val_loss: 0.3910 - val_accuracy: 0.8628\n",
      "Epoch 6/10\n",
      "2814/2814 [==============================] - 115s 41ms/step - loss: 0.0985 - accuracy: 0.9640 - val_loss: 0.4712 - val_accuracy: 0.8621\n",
      "Epoch 7/10\n",
      "2814/2814 [==============================] - 113s 40ms/step - loss: 0.0774 - accuracy: 0.9725 - val_loss: 0.4839 - val_accuracy: 0.8594\n",
      "Epoch 8/10\n",
      "2814/2814 [==============================] - 112s 40ms/step - loss: 0.0633 - accuracy: 0.9775 - val_loss: 0.5512 - val_accuracy: 0.8491\n",
      "Epoch 9/10\n",
      "2814/2814 [==============================] - 112s 40ms/step - loss: 0.0518 - accuracy: 0.9825 - val_loss: 0.5865 - val_accuracy: 0.8524\n",
      "Epoch 10/10\n",
      "2814/2814 [==============================] - 111s 40ms/step - loss: 0.0418 - accuracy: 0.9857 - val_loss: 0.6863 - val_accuracy: 0.8519\n"
     ]
    }
   ],
   "source": [
    "history = model.fit(train_pad , y_train , epochs = 10)"
   ]
  },
  {
   "cell_type": "code",
   "execution_count": null,
   "metadata": {
    "colab": {
     "base_uri": "https://localhost:8080/"
    },
    "id": "U30PzrbLWA3r",
    "outputId": "240d5828-86e8-4005-9e93-7d91bf3d6d34"
   },
   "outputs": [
    {
     "name": "stdout",
     "output_type": "stream",
     "text": [
      "313/313 [==============================] - 5s 16ms/step - loss: 0.6465 - accuracy: 0.8601\n"
     ]
    },
    {
     "data": {
      "text/plain": [
       "[0.6465455293655396, 0.8601139783859253]"
      ]
     },
     "execution_count": 65,
     "metadata": {},
     "output_type": "execute_result"
    }
   ],
   "source": [
    "model.evaluate(test_pad,y_test)"
   ]
  },
  {
   "cell_type": "markdown",
   "metadata": {
    "id": "yN6WqVH3ITwo"
   },
   "source": [
    "HAN"
   ]
  },
  {
   "cell_type": "code",
   "execution_count": null,
   "metadata": {
    "id": "TvFXcx_b2vjA"
   },
   "outputs": [],
   "source": [
    "import pandas as pd\n",
    "from sklearn.model_selection import train_test_split\n",
    "from keras.preprocessing.text import Tokenizer\n",
    "from keras.utils import pad_sequences\n",
    "from keras.models import Model\n",
    "from keras.layers import Input, Embedding, GRU, Dense, Dropout, TimeDistributed\n",
    "from keras.layers import Bidirectional, Attention"
   ]
  },
  {
   "cell_type": "code",
   "execution_count": null,
   "metadata": {
    "id": "jXNz-_TiAYYd"
   },
   "outputs": [],
   "source": [
    "# Prepare the training data\n",
    "X_train = df_train['text']\n",
    "y_train= df_train['label']\n",
    "\n",
    "# Prepare the test data\n",
    "X_test= df_test['text']\n",
    "y_test= df_test['label']\n"
   ]
  },
  {
   "cell_type": "code",
   "execution_count": null,
   "metadata": {
    "id": "Lb38hEbfAizM"
   },
   "outputs": [],
   "source": [
    "# Tokenize and pad the text data\n",
    "tokenizer = Tokenizer()\n",
    "tokenizer.fit_on_texts(X_train)\n",
    "X_train_seq = tokenizer.texts_to_sequences(X_train)\n",
    "X_test_seq = tokenizer.texts_to_sequences(X_test)\n",
    "vocab_size = len(tokenizer.word_index) + 1\n",
    "max_sentences = 10  # You can adjust the maximum number of sentences in a review\n",
    "max_sentence_length = 100  # You can adjust the maximum length of each sentence\n",
    "X_train_pad = pad_sequences(X_train_seq, maxlen=max_sentence_length)\n",
    "X_test_pad = pad_sequences(X_test_seq, maxlen=max_sentence_length)\n",
    "# Build the HAN model\n",
    "input_word = Input(shape=(max_sentence_length,))\n",
    "word_embedding = Embedding(input_dim=vocab_size, output_dim=100)(input_word)\n",
    "word_encoder = Bidirectional(GRU(units=64, return_sequences=True))(word_embedding)\n",
    "word_attention = Attention()([word_encoder, word_encoder])\n",
    "word_encoder = TimeDistributed(Dense(64))(word_attention)\n",
    "word_encoder = Dropout(0.3)(word_encoder)\n",
    "sentence_encoder = Bidirectional(GRU(units=64, return_sequences=True))(word_encoder)\n",
    "sentence_attention = Attention()([sentence_encoder, sentence_encoder])\n",
    "sentence_encoder = TimeDistributed(Dense(64))(sentence_attention)\n",
    "sentence_encoder = Dropout(0.3)(sentence_encoder)\n",
    "output = Dense(1, activation='sigmoid')(sentence_encoder)"
   ]
  },
  {
   "cell_type": "code",
   "execution_count": null,
   "metadata": {
    "id": "YHT0FSgQRZgg"
   },
   "outputs": [],
   "source": [
    "model = Model(inputs=input_word, outputs=output)"
   ]
  },
  {
   "cell_type": "code",
   "execution_count": null,
   "metadata": {
    "colab": {
     "base_uri": "https://localhost:8080/"
    },
    "id": "eln_8R4MAl8P",
    "outputId": "3c4d1521-0f61-4eb6-ddce-26c86ba49044"
   },
   "outputs": [
    {
     "name": "stdout",
     "output_type": "stream",
     "text": [
      "Epoch 1/30\n",
      "2501/2501 [==============================] - 148s 54ms/step - loss: 0.3256 - accuracy: 0.8599\n",
      "Epoch 2/30\n",
      "2501/2501 [==============================] - 61s 24ms/step - loss: 0.1966 - accuracy: 0.9238\n",
      "Epoch 3/30\n",
      "2501/2501 [==============================] - 59s 23ms/step - loss: 0.1179 - accuracy: 0.9573\n",
      "Epoch 4/30\n",
      "2501/2501 [==============================] - 56s 23ms/step - loss: 0.0654 - accuracy: 0.9774\n",
      "Epoch 5/30\n",
      "2501/2501 [==============================] - 55s 22ms/step - loss: 0.0375 - accuracy: 0.9872\n",
      "Epoch 6/30\n",
      "2501/2501 [==============================] - 57s 23ms/step - loss: 0.0214 - accuracy: 0.9928\n",
      "Epoch 7/30\n",
      "2501/2501 [==============================] - 55s 22ms/step - loss: 0.0146 - accuracy: 0.9951\n",
      "Epoch 8/30\n",
      "2501/2501 [==============================] - 55s 22ms/step - loss: 0.0102 - accuracy: 0.9965\n",
      "Epoch 9/30\n",
      "2501/2501 [==============================] - 56s 22ms/step - loss: 0.0071 - accuracy: 0.9975\n",
      "Epoch 10/30\n",
      "2501/2501 [==============================] - 55s 22ms/step - loss: 0.0058 - accuracy: 0.9980\n",
      "Epoch 11/30\n",
      "2501/2501 [==============================] - 54s 22ms/step - loss: 0.0043 - accuracy: 0.9987\n",
      "Epoch 12/30\n",
      "2501/2501 [==============================] - 55s 22ms/step - loss: 0.0043 - accuracy: 0.9986\n",
      "Epoch 13/30\n",
      "2501/2501 [==============================] - 55s 22ms/step - loss: 0.0037 - accuracy: 0.9987\n",
      "Epoch 14/30\n",
      "2501/2501 [==============================] - 54s 22ms/step - loss: 0.0034 - accuracy: 0.9989\n",
      "Epoch 15/30\n",
      "2501/2501 [==============================] - 55s 22ms/step - loss: 0.0020 - accuracy: 0.9994\n",
      "Epoch 16/30\n",
      "2501/2501 [==============================] - 56s 22ms/step - loss: 0.0023 - accuracy: 0.9992\n",
      "Epoch 17/30\n",
      "2501/2501 [==============================] - 55s 22ms/step - loss: 0.0021 - accuracy: 0.9994\n",
      "Epoch 18/30\n",
      "2501/2501 [==============================] - 55s 22ms/step - loss: 0.0018 - accuracy: 0.9994\n",
      "Epoch 19/30\n",
      "2501/2501 [==============================] - 57s 23ms/step - loss: 0.0018 - accuracy: 0.9994\n",
      "Epoch 20/30\n",
      "2501/2501 [==============================] - 57s 23ms/step - loss: 0.0019 - accuracy: 0.9994\n",
      "Epoch 21/30\n",
      "2501/2501 [==============================] - 57s 23ms/step - loss: 0.0016 - accuracy: 0.9995\n",
      "Epoch 22/30\n",
      "2501/2501 [==============================] - 55s 22ms/step - loss: 0.0011 - accuracy: 0.9996\n",
      "Epoch 23/30\n",
      "2501/2501 [==============================] - 55s 22ms/step - loss: 0.0014 - accuracy: 0.9995\n",
      "Epoch 24/30\n",
      "2501/2501 [==============================] - 56s 23ms/step - loss: 0.0015 - accuracy: 0.9995\n",
      "Epoch 25/30\n",
      "2501/2501 [==============================] - 58s 23ms/step - loss: 0.0010 - accuracy: 0.9997\n",
      "Epoch 26/30\n",
      "2501/2501 [==============================] - 56s 22ms/step - loss: 0.0010 - accuracy: 0.9996\n",
      "Epoch 27/30\n",
      "2501/2501 [==============================] - 56s 23ms/step - loss: 8.5669e-04 - accuracy: 0.9998\n",
      "Epoch 28/30\n",
      "2501/2501 [==============================] - 57s 23ms/step - loss: 0.0014 - accuracy: 0.9995\n",
      "Epoch 29/30\n",
      "2501/2501 [==============================] - 57s 23ms/step - loss: 7.7580e-04 - accuracy: 0.9998\n",
      "Epoch 30/30\n",
      "2501/2501 [==============================] - 56s 23ms/step - loss: 0.0011 - accuracy: 0.9997\n"
     ]
    },
    {
     "data": {
      "text/plain": [
       "<keras.callbacks.History at 0x7fbde0a238e0>"
      ]
     },
     "execution_count": 29,
     "metadata": {},
     "output_type": "execute_result"
    }
   ],
   "source": [
    "# Compile and train the model\n",
    "model.compile(loss='binary_crossentropy', optimizer='Adam', metrics=['accuracy'])\n",
    "model.fit(X_train_pad,y_train,epochs=30,batch_size=40)\n",
    "\n"
   ]
  },
  {
   "cell_type": "code",
   "execution_count": null,
   "metadata": {
    "colab": {
     "base_uri": "https://localhost:8080/"
    },
    "id": "GOIs6gEZRrVT",
    "outputId": "a95623ed-90f7-4a32-c63e-9a20542f8f5b"
   },
   "outputs": [
    {
     "name": "stdout",
     "output_type": "stream",
     "text": [
      "313/313 [==============================] - 4s 9ms/step - loss: 0.9397 - accuracy: 0.8580\n",
      "Test Loss: 0.9397412538528442\n",
      "Test Accuracy: 0.8580231666564941\n"
     ]
    }
   ],
   "source": [
    "# Evaluate the model on the test set\n",
    "loss, accuracy = model.evaluate(X_test_pad, y_test)\n",
    "print(\"Test Loss:\",loss)\n",
    "print(\"Test Accuracy:\",accuracy)"
   ]
  },
  {
   "cell_type": "markdown",
   "metadata": {
    "id": "k9IJGJX8uYOO"
   },
   "source": [
    "Ensemble"
   ]
  },
  {
   "cell_type": "code",
   "execution_count": 69,
   "metadata": {
    "executionInfo": {
     "elapsed": 372,
     "status": "ok",
     "timestamp": 1686215400202,
     "user": {
      "displayName": "Shabna Binth Nazar",
      "userId": "17143942376566095443"
     },
     "user_tz": -330
    },
    "id": "yY3nfdLuAne_"
   },
   "outputs": [],
   "source": [
    "import pandas as pd\n",
    "from sklearn.feature_extraction.text import CountVectorizer\n",
    "from sklearn.ensemble import RandomForestClassifier\n",
    "from sklearn.naive_bayes import MultinomialNB\n",
    "from sklearn.metrics import accuracy_score"
   ]
  },
  {
   "cell_type": "code",
   "execution_count": 70,
   "metadata": {
    "executionInfo": {
     "elapsed": 7,
     "status": "ok",
     "timestamp": 1686215401943,
     "user": {
      "displayName": "Shabna Binth Nazar",
      "userId": "17143942376566095443"
     },
     "user_tz": -330
    },
    "id": "a5Qu5NMHvfSk"
   },
   "outputs": [],
   "source": [
    "# Separate the reviews and labels\n",
    "train_reviews = df_train['text'].values\n",
    "train_labels =df_train['label'].values\n",
    "test_reviews = df_test['text'].values\n",
    "test_labels = df_test['label'].values"
   ]
  },
  {
   "cell_type": "code",
   "execution_count": 71,
   "metadata": {
    "executionInfo": {
     "elapsed": 4316,
     "status": "ok",
     "timestamp": 1686215408380,
     "user": {
      "displayName": "Shabna Binth Nazar",
      "userId": "17143942376566095443"
     },
     "user_tz": -330
    },
    "id": "QXWWv6tawFqg"
   },
   "outputs": [],
   "source": [
    "# Create a bag-of-words representation of the reviews\n",
    "vectorizer = CountVectorizer()\n",
    "train_features = vectorizer.fit_transform(train_reviews)\n",
    "test_features = vectorizer.transform(test_reviews)"
   ]
  },
  {
   "cell_type": "code",
   "execution_count": 73,
   "metadata": {
    "colab": {
     "base_uri": "https://localhost:8080/",
     "height": 74
    },
    "executionInfo": {
     "elapsed": 687334,
     "status": "ok",
     "timestamp": 1686216921647,
     "user": {
      "displayName": "Shabna Binth Nazar",
      "userId": "17143942376566095443"
     },
     "user_tz": -330
    },
    "id": "7DtLEjdHEEux",
    "outputId": "c6f6f3a1-2689-4d69-d86d-5e57ba568d59"
   },
   "outputs": [
    {
     "data": {
      "text/html": [
       "<style>#sk-container-id-4 {color: black;background-color: white;}#sk-container-id-4 pre{padding: 0;}#sk-container-id-4 div.sk-toggleable {background-color: white;}#sk-container-id-4 label.sk-toggleable__label {cursor: pointer;display: block;width: 100%;margin-bottom: 0;padding: 0.3em;box-sizing: border-box;text-align: center;}#sk-container-id-4 label.sk-toggleable__label-arrow:before {content: \"▸\";float: left;margin-right: 0.25em;color: #696969;}#sk-container-id-4 label.sk-toggleable__label-arrow:hover:before {color: black;}#sk-container-id-4 div.sk-estimator:hover label.sk-toggleable__label-arrow:before {color: black;}#sk-container-id-4 div.sk-toggleable__content {max-height: 0;max-width: 0;overflow: hidden;text-align: left;background-color: #f0f8ff;}#sk-container-id-4 div.sk-toggleable__content pre {margin: 0.2em;color: black;border-radius: 0.25em;background-color: #f0f8ff;}#sk-container-id-4 input.sk-toggleable__control:checked~div.sk-toggleable__content {max-height: 200px;max-width: 100%;overflow: auto;}#sk-container-id-4 input.sk-toggleable__control:checked~label.sk-toggleable__label-arrow:before {content: \"▾\";}#sk-container-id-4 div.sk-estimator input.sk-toggleable__control:checked~label.sk-toggleable__label {background-color: #d4ebff;}#sk-container-id-4 div.sk-label input.sk-toggleable__control:checked~label.sk-toggleable__label {background-color: #d4ebff;}#sk-container-id-4 input.sk-hidden--visually {border: 0;clip: rect(1px 1px 1px 1px);clip: rect(1px, 1px, 1px, 1px);height: 1px;margin: -1px;overflow: hidden;padding: 0;position: absolute;width: 1px;}#sk-container-id-4 div.sk-estimator {font-family: monospace;background-color: #f0f8ff;border: 1px dotted black;border-radius: 0.25em;box-sizing: border-box;margin-bottom: 0.5em;}#sk-container-id-4 div.sk-estimator:hover {background-color: #d4ebff;}#sk-container-id-4 div.sk-parallel-item::after {content: \"\";width: 100%;border-bottom: 1px solid gray;flex-grow: 1;}#sk-container-id-4 div.sk-label:hover label.sk-toggleable__label {background-color: #d4ebff;}#sk-container-id-4 div.sk-serial::before {content: \"\";position: absolute;border-left: 1px solid gray;box-sizing: border-box;top: 0;bottom: 0;left: 50%;z-index: 0;}#sk-container-id-4 div.sk-serial {display: flex;flex-direction: column;align-items: center;background-color: white;padding-right: 0.2em;padding-left: 0.2em;position: relative;}#sk-container-id-4 div.sk-item {position: relative;z-index: 1;}#sk-container-id-4 div.sk-parallel {display: flex;align-items: stretch;justify-content: center;background-color: white;position: relative;}#sk-container-id-4 div.sk-item::before, #sk-container-id-4 div.sk-parallel-item::before {content: \"\";position: absolute;border-left: 1px solid gray;box-sizing: border-box;top: 0;bottom: 0;left: 50%;z-index: -1;}#sk-container-id-4 div.sk-parallel-item {display: flex;flex-direction: column;z-index: 1;position: relative;background-color: white;}#sk-container-id-4 div.sk-parallel-item:first-child::after {align-self: flex-end;width: 50%;}#sk-container-id-4 div.sk-parallel-item:last-child::after {align-self: flex-start;width: 50%;}#sk-container-id-4 div.sk-parallel-item:only-child::after {width: 0;}#sk-container-id-4 div.sk-dashed-wrapped {border: 1px dashed gray;margin: 0 0.4em 0.5em 0.4em;box-sizing: border-box;padding-bottom: 0.4em;background-color: white;}#sk-container-id-4 div.sk-label label {font-family: monospace;font-weight: bold;display: inline-block;line-height: 1.2em;}#sk-container-id-4 div.sk-label-container {text-align: center;}#sk-container-id-4 div.sk-container {/* jupyter's `normalize.less` sets `[hidden] { display: none; }` but bootstrap.min.css set `[hidden] { display: none !important; }` so we also need the `!important` here to be able to override the default hidden behavior on the sphinx rendered scikit-learn.org. See: https://github.com/scikit-learn/scikit-learn/issues/21755 */display: inline-block !important;position: relative;}#sk-container-id-4 div.sk-text-repr-fallback {display: none;}</style><div id=\"sk-container-id-4\" class=\"sk-top-container\"><div class=\"sk-text-repr-fallback\"><pre>RandomForestClassifier()</pre><b>In a Jupyter environment, please rerun this cell to show the HTML representation or trust the notebook. <br />On GitHub, the HTML representation is unable to render, please try loading this page with nbviewer.org.</b></div><div class=\"sk-container\" hidden><div class=\"sk-item\"><div class=\"sk-estimator sk-toggleable\"><input class=\"sk-toggleable__control sk-hidden--visually\" id=\"sk-estimator-id-4\" type=\"checkbox\" checked><label for=\"sk-estimator-id-4\" class=\"sk-toggleable__label sk-toggleable__label-arrow\">RandomForestClassifier</label><div class=\"sk-toggleable__content\"><pre>RandomForestClassifier()</pre></div></div></div></div></div>"
      ],
      "text/plain": [
       "RandomForestClassifier()"
      ]
     },
     "execution_count": 73,
     "metadata": {},
     "output_type": "execute_result"
    }
   ],
   "source": [
    "# Train the Random Forest classifier\n",
    "rf_classifier = RandomForestClassifier(n_estimators=100)\n",
    "rf_classifier.fit(train_features, train_labels)"
   ]
  },
  {
   "cell_type": "code",
   "execution_count": 74,
   "metadata": {
    "colab": {
     "base_uri": "https://localhost:8080/",
     "height": 74
    },
    "executionInfo": {
     "elapsed": 701,
     "status": "ok",
     "timestamp": 1686216958690,
     "user": {
      "displayName": "Shabna Binth Nazar",
      "userId": "17143942376566095443"
     },
     "user_tz": -330
    },
    "id": "o8esbulg9JxA",
    "outputId": "5110913e-d219-4bbe-eac6-7609b1030d40"
   },
   "outputs": [
    {
     "data": {
      "text/html": [
       "<style>#sk-container-id-5 {color: black;background-color: white;}#sk-container-id-5 pre{padding: 0;}#sk-container-id-5 div.sk-toggleable {background-color: white;}#sk-container-id-5 label.sk-toggleable__label {cursor: pointer;display: block;width: 100%;margin-bottom: 0;padding: 0.3em;box-sizing: border-box;text-align: center;}#sk-container-id-5 label.sk-toggleable__label-arrow:before {content: \"▸\";float: left;margin-right: 0.25em;color: #696969;}#sk-container-id-5 label.sk-toggleable__label-arrow:hover:before {color: black;}#sk-container-id-5 div.sk-estimator:hover label.sk-toggleable__label-arrow:before {color: black;}#sk-container-id-5 div.sk-toggleable__content {max-height: 0;max-width: 0;overflow: hidden;text-align: left;background-color: #f0f8ff;}#sk-container-id-5 div.sk-toggleable__content pre {margin: 0.2em;color: black;border-radius: 0.25em;background-color: #f0f8ff;}#sk-container-id-5 input.sk-toggleable__control:checked~div.sk-toggleable__content {max-height: 200px;max-width: 100%;overflow: auto;}#sk-container-id-5 input.sk-toggleable__control:checked~label.sk-toggleable__label-arrow:before {content: \"▾\";}#sk-container-id-5 div.sk-estimator input.sk-toggleable__control:checked~label.sk-toggleable__label {background-color: #d4ebff;}#sk-container-id-5 div.sk-label input.sk-toggleable__control:checked~label.sk-toggleable__label {background-color: #d4ebff;}#sk-container-id-5 input.sk-hidden--visually {border: 0;clip: rect(1px 1px 1px 1px);clip: rect(1px, 1px, 1px, 1px);height: 1px;margin: -1px;overflow: hidden;padding: 0;position: absolute;width: 1px;}#sk-container-id-5 div.sk-estimator {font-family: monospace;background-color: #f0f8ff;border: 1px dotted black;border-radius: 0.25em;box-sizing: border-box;margin-bottom: 0.5em;}#sk-container-id-5 div.sk-estimator:hover {background-color: #d4ebff;}#sk-container-id-5 div.sk-parallel-item::after {content: \"\";width: 100%;border-bottom: 1px solid gray;flex-grow: 1;}#sk-container-id-5 div.sk-label:hover label.sk-toggleable__label {background-color: #d4ebff;}#sk-container-id-5 div.sk-serial::before {content: \"\";position: absolute;border-left: 1px solid gray;box-sizing: border-box;top: 0;bottom: 0;left: 50%;z-index: 0;}#sk-container-id-5 div.sk-serial {display: flex;flex-direction: column;align-items: center;background-color: white;padding-right: 0.2em;padding-left: 0.2em;position: relative;}#sk-container-id-5 div.sk-item {position: relative;z-index: 1;}#sk-container-id-5 div.sk-parallel {display: flex;align-items: stretch;justify-content: center;background-color: white;position: relative;}#sk-container-id-5 div.sk-item::before, #sk-container-id-5 div.sk-parallel-item::before {content: \"\";position: absolute;border-left: 1px solid gray;box-sizing: border-box;top: 0;bottom: 0;left: 50%;z-index: -1;}#sk-container-id-5 div.sk-parallel-item {display: flex;flex-direction: column;z-index: 1;position: relative;background-color: white;}#sk-container-id-5 div.sk-parallel-item:first-child::after {align-self: flex-end;width: 50%;}#sk-container-id-5 div.sk-parallel-item:last-child::after {align-self: flex-start;width: 50%;}#sk-container-id-5 div.sk-parallel-item:only-child::after {width: 0;}#sk-container-id-5 div.sk-dashed-wrapped {border: 1px dashed gray;margin: 0 0.4em 0.5em 0.4em;box-sizing: border-box;padding-bottom: 0.4em;background-color: white;}#sk-container-id-5 div.sk-label label {font-family: monospace;font-weight: bold;display: inline-block;line-height: 1.2em;}#sk-container-id-5 div.sk-label-container {text-align: center;}#sk-container-id-5 div.sk-container {/* jupyter's `normalize.less` sets `[hidden] { display: none; }` but bootstrap.min.css set `[hidden] { display: none !important; }` so we also need the `!important` here to be able to override the default hidden behavior on the sphinx rendered scikit-learn.org. See: https://github.com/scikit-learn/scikit-learn/issues/21755 */display: inline-block !important;position: relative;}#sk-container-id-5 div.sk-text-repr-fallback {display: none;}</style><div id=\"sk-container-id-5\" class=\"sk-top-container\"><div class=\"sk-text-repr-fallback\"><pre>MultinomialNB()</pre><b>In a Jupyter environment, please rerun this cell to show the HTML representation or trust the notebook. <br />On GitHub, the HTML representation is unable to render, please try loading this page with nbviewer.org.</b></div><div class=\"sk-container\" hidden><div class=\"sk-item\"><div class=\"sk-estimator sk-toggleable\"><input class=\"sk-toggleable__control sk-hidden--visually\" id=\"sk-estimator-id-5\" type=\"checkbox\" checked><label for=\"sk-estimator-id-5\" class=\"sk-toggleable__label sk-toggleable__label-arrow\">MultinomialNB</label><div class=\"sk-toggleable__content\"><pre>MultinomialNB()</pre></div></div></div></div></div>"
      ],
      "text/plain": [
       "MultinomialNB()"
      ]
     },
     "execution_count": 74,
     "metadata": {},
     "output_type": "execute_result"
    }
   ],
   "source": [
    "# Train the Naive Bayes classifier\n",
    "nb_classifier = MultinomialNB()\n",
    "nb_classifier.fit(train_features, train_labels)"
   ]
  },
  {
   "cell_type": "code",
   "execution_count": 75,
   "metadata": {
    "executionInfo": {
     "elapsed": 1673,
     "status": "ok",
     "timestamp": 1686216966048,
     "user": {
      "displayName": "Shabna Binth Nazar",
      "userId": "17143942376566095443"
     },
     "user_tz": -330
    },
    "id": "xLvrITQ6EDM5"
   },
   "outputs": [],
   "source": [
    "# Make predictions on the testing dataset using both classifiers\n",
    "rf_predictions = rf_classifier.predict(test_features)\n",
    "nb_predictions = nb_classifier.predict(test_features)"
   ]
  },
  {
   "cell_type": "code",
   "execution_count": 95,
   "metadata": {
    "executionInfo": {
     "elapsed": 2025,
     "status": "ok",
     "timestamp": 1686224647398,
     "user": {
      "displayName": "Shabna Binth Nazar",
      "userId": "17143942376566095443"
     },
     "user_tz": -330
    },
    "id": "99mwh0UIGYZ3"
   },
   "outputs": [],
   "source": [
    "# Make predictions on the testing dataset using both classifiers\n",
    "rf_predictions = rf_classifier.predict(test_features)\n",
    "nb_predictions = nb_classifier.predict(test_features)\n",
    "\n",
    "# Combine the predictions using a voting scheme\n",
    "ensemble_predictions = []\n",
    "for rf_pred, nb_pred in zip(rf_predictions, nb_predictions):\n",
    "    if rf_pred == nb_pred:\n",
    "        ensemble_predictions.append(rf_pred)\n",
    "    else:\n",
    "        ensemble_predictions.append(rf_pred)  # You can modify the voting scheme based on your preference"
   ]
  },
  {
   "cell_type": "code",
   "execution_count": 96,
   "metadata": {
    "colab": {
     "base_uri": "https://localhost:8080/"
    },
    "executionInfo": {
     "elapsed": 414,
     "status": "ok",
     "timestamp": 1686224650324,
     "user": {
      "displayName": "Shabna Binth Nazar",
      "userId": "17143942376566095443"
     },
     "user_tz": -330
    },
    "id": "mkpIpHbfGcsT",
    "outputId": "3a0bfe1a-362d-4188-e9c4-26f812bb8bc5"
   },
   "outputs": [
    {
     "name": "stdout",
     "output_type": "stream",
     "text": [
      "Ensemble Accuracy: 0.8586141385861414\n"
     ]
    }
   ],
   "source": [
    "# Calculate the accuracy of the ensemble predictions\n",
    "ensemble_accuracy = accuracy_score(test_labels, ensemble_predictions)\n",
    "print('Ensemble Accuracy:', ensemble_accuracy)"
   ]
  },
  {
   "cell_type": "code",
   "execution_count": null,
   "metadata": {
    "id": "5AaLYL82zzz1"
   },
   "outputs": [],
   "source": []
  }
 ],
 "metadata": {
  "accelerator": "GPU",
  "colab": {
   "gpuType": "T4",
   "provenance": []
  },
  "kernelspec": {
   "display_name": "Python 3 (ipykernel)",
   "language": "python",
   "name": "python3"
  },
  "language_info": {
   "codemirror_mode": {
    "name": "ipython",
    "version": 3
   },
   "file_extension": ".py",
   "mimetype": "text/x-python",
   "name": "python",
   "nbconvert_exporter": "python",
   "pygments_lexer": "ipython3",
   "version": "3.9.13"
  }
 },
 "nbformat": 4,
 "nbformat_minor": 1
}
